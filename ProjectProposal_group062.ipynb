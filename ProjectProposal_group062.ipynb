{
 "cells": [
  {
   "cell_type": "markdown",
   "metadata": {},
   "source": [
    "# COGS 108 - Final Project Proposal"
   ]
  },
  {
   "cell_type": "markdown",
   "metadata": {},
   "source": [
    "# Names\n",
    "\n",
    "- Alessandro Todaro\n",
    "- Richard Yu\n",
    "- Vivek Rayalu\n",
    "- Mengyu Zhang\n",
    "- Hedy Wang"
   ]
  },
  {
   "cell_type": "markdown",
   "metadata": {},
   "source": [
    "# Research Question"
   ]
  },
  {
   "cell_type": "markdown",
   "metadata": {},
   "source": [
    "How does college GPA correlate to career success, and how does the correlation differ between fields? Factors of success include salary at different points within one’s career, individual job satisfaction, and workplace seniority."
   ]
  },
  {
   "cell_type": "markdown",
   "metadata": {},
   "source": [
    "## Background and Prior Work"
   ]
  },
  {
   "cell_type": "markdown",
   "metadata": {},
   "source": [
    "College students like us worry about GPA a lot, but does the GPA really matter in the future? According to this article, we see that overall, a better GPA reflects a better future, but there are also exceptions. Your GPA is extremely important when you are looking for jobs, especially if that is the first job you apply for. As mentioned in the article “67 percent of companies said that they veiled candidates by their GPA” which means that if you have a low GPA, then you are automatically filtered out by the employer. For most of the people, their income increases as the GPA increases, but we do see some exceptions that for the low GPA people, we still see over 20% of them have high income. We also see people with higher GPA tend to be happier than those who have lower GPA. What we are trying to find is that of all those things that correlate with GPA, is there a pattern that could tell us why the GPA influences our future and why the exceptions exist (1).\n",
    "\n",
    "Other factors such as major and industry may also influence the results between GPA and salary. From the research article, although majors that are listed by media promising high salaries may not guarantee higher earnings, there is a wage difference among different majors. In addition, GPA and industry have significant strong positive correlations to wages (2).\n",
    "\n",
    "References (include links):\n",
    "- 1) https://getblogo.com/how-much-does-your-college-gpa-affect-your-future/\n",
    "- 2) https://dukespace.lib.duke.edu/dspace/bitstream/handle/10161/5129/Low_FINAL_THESIS%2004-16.pdf?isAllowed=y&sequence=1 "
   ]
  },
  {
   "cell_type": "markdown",
   "metadata": {},
   "source": [
    "# Hypothesis\n"
   ]
  },
  {
   "cell_type": "markdown",
   "metadata": {},
   "source": [
    "We expect to see a positive correlation between college GPA and salary. More specifically, we believe that college students’ GPA will make a significant difference on salary and job seniority only at the start of one’s career. At later points in one’s career, GPA would make less of an impact on salary and seniority. For example, we expect to see that 20 years after a student graduates, GPA does not affect the salary or seniority because of job experience or other reasons. In addition to this, we also expect to see some disparity in the correlation between college GPA and salary/seniority between different fields. There are other factors that can affect salary and seniority which include family connections and economic status, so we anticipate that even if our hypothesis is proved to be true, it does not necessarily establish causality. "
   ]
  },
  {
   "cell_type": "markdown",
   "metadata": {},
   "source": [
    "# Data"
   ]
  },
  {
   "cell_type": "markdown",
   "metadata": {},
   "source": [
    "An ideal dataset would include data on career professionals at different points in their career. Variables would include GPA, naturally, as well as the individual's salary, job satisfaction, workplace seniority, field of work, and college major. Ideally, there would be enough data to be able to split observations among different majors or fields and still derive meaningful conclusions."
   ]
  },
  {
   "cell_type": "markdown",
   "metadata": {},
   "source": [
    "# Ethics & Privacy"
   ]
  },
  {
   "cell_type": "markdown",
   "metadata": {},
   "source": [
    "Ethics wise, we believe that the research question is well posed. The stakeholders of our research will be college students who themselves have a GPA, and may be influenced by our findings. Possible implications may be that if a positive correlation between GPA and salary/seniority is found, it may be used to discriminate against students that have a lower GPA. However, If a positive correlation is indeed found between GPA and salary/seniority, we plan to use that finding to display the current institutional inequalities that exist in our country, not perpetuate it. Privacy is also a top priority. We plan on using data where the participants have given informed consent and plan on removing any personally identifiable information (PII). The dataset will be strictly the individual’s college GPA and their income in different stages of life, and thus not be identifiable. This will result in an anonymization of the data set."
   ]
  },
  {
   "cell_type": "markdown",
   "metadata": {},
   "source": [
    "# Team Expectations "
   ]
  },
  {
   "cell_type": "markdown",
   "metadata": {},
   "source": [
    "* Strong and consistent communication. Any team member should never be afraid to ask questions or have their voice heard.\n",
    "* Time flexibility. The team should account for timezone differences so that everyone can contribute.\n",
    "* ..."
   ]
  },
  {
   "cell_type": "markdown",
   "metadata": {},
   "source": [
    "# Project Timeline Proposal"
   ]
  },
  {
   "cell_type": "markdown",
   "metadata": {},
   "source": [
    "| Meeting Date  | Meeting Time| Completed Before Meeting  | Discuss at Meeting |\n",
    "|---|---|---|---|\n",
    "| 1/28  |  6 PM | Brainstorm topics/questions  | Discuss and choose topic, assign workload, begin proposal writing | \n",
    "| 2/6  | TBD  | Edit, finalize, and submit proposal; Search for datasets  | Discuss Wrangling and possible analytical approaches; Assign group members to lead each specific part   |\n",
    "| 2/10  | TBD  | Import & Wrangle Data | Finalize data submission   |\n",
    "| 3/19  | Before 11:59 PM  | NA | Turn in Final Project & Group Project Surveys |"
   ]
  },
  {
   "cell_type": "code",
   "execution_count": null,
   "metadata": {},
   "outputs": [],
   "source": []
  }
 ],
 "metadata": {
  "kernelspec": {
   "display_name": "Python 3",
   "language": "python",
   "name": "python3"
  },
  "language_info": {
   "codemirror_mode": {
    "name": "ipython",
    "version": 3
   },
   "file_extension": ".py",
   "mimetype": "text/x-python",
   "name": "python",
   "nbconvert_exporter": "python",
   "pygments_lexer": "ipython3",
   "version": "3.8.5"
  }
 },
 "nbformat": 4,
 "nbformat_minor": 2
}
