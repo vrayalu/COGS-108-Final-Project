{
 "cells": [
  {
   "cell_type": "markdown",
   "metadata": {},
   "source": [
    "# The Effect of College GPA on Success"
   ]
  },
  {
   "cell_type": "markdown",
   "metadata": {},
   "source": [
    "# Overview"
   ]
  },
  {
   "cell_type": "markdown",
   "metadata": {},
   "source": [
    "The goal of this project was to find the effect of college GPA on factors of career success, namely, salary and job satisfaction. We used data from the National Survey of Recent College Graduates to explore relationships between GPA and other variables across different fields of work. Using visualization and linear regression techniques, we found statistically significant correlations between college GPA and both salary and job satisfaction, and observed differences in these relationships between different college majors."
   ]
  },
  {
   "cell_type": "markdown",
   "metadata": {},
   "source": [
    "# Names\n",
    "\n",
    "- Alessandro Todaro\n",
    "- Richard Yu\n",
    "- Vivek Rayalu\n",
    "- Mengyu Zhang\n",
    "- Hedy Wang"
   ]
  },
  {
   "cell_type": "markdown",
   "metadata": {},
   "source": [
    "<a id='research_question'></a>\n",
    "# Research Question"
   ]
  },
  {
   "cell_type": "markdown",
   "metadata": {},
   "source": [
    "How does college GPA correlate to salary and job satisfaction for recent college graduates, and how does the correlation differ between fields/degrees?"
   ]
  },
  {
   "cell_type": "markdown",
   "metadata": {},
   "source": [
    "<a id='background'></a>\n",
    "\n",
    "## Background & Prior Work"
   ]
  },
  {
   "cell_type": "markdown",
   "metadata": {},
   "source": [
    "College students like us worry about GPA a lot, but will our college GPAs significantly impact our careers? Will the extra work and stress required to get that A pay off? These questions are what prompted our research question.\n",
    "\n",
    "We are not the first to wonder about the benefits of a good GPA. In the article \"How Much Does Your College GPA Affect Your Future,\" the author cites data showing that many large companies (67%) screen applicants by GPA - however, this does not bar low GPA applicants completely (1). Outside of these larger employers, GPA often matters less, and the author also states that the importance of GPA decreases as you obtain more job experience through your career. The article does include results from some studies comparing GPA to salary, and they show that salary does increase with higher GPAs; at the same time, there were still significant numbers of people with high salaries and lower GPAs.\n",
    "\n",
    "The research paper \"Capturing a College Education's Impact on Industry Wages Across Time\" explores the relationship between GPA and salary more deeply, by including factors such as industry (2). The author concludes that GPA does have an effect on wage, along with choice of major and field of work.\n",
    "\n",
    "Our research here, while similar to the discussed examples, involves analysis of different and potentially more comprehensive data sets, and evaluates the relationship of new variables, such as job satisfaction and overlap between major and field of work, to hopefully provide more ways of assessing the importance of GPA.\n",
    "\n",
    "References):\n",
    "- 1) https://getblogo.com/how-much-does-your-college-gpa-affect-your-future/\n",
    "- 2) https://dukespace.lib.duke.edu/dspace/bitstream/handle/10161/5129/Low_FINAL_THESIS%2004-16.pdf?isAllowed=y&sequence=1 "
   ]
  },
  {
   "cell_type": "markdown",
   "metadata": {},
   "source": [
    "# Hypothesis\n"
   ]
  },
  {
   "cell_type": "markdown",
   "metadata": {},
   "source": [
    "We expect to see a positive correlation between college GPA and salary, as well as between GPA and job satisfaction. We think this because our data consists of recent college graduates, who will mostly have little industry experience; thus, GPA might play a more significant role in their collective hiring process, making it easier for those with higher GPAs to secure well-paying jobs. This ties into job satisfaction as well, since someone with more leverage (a better GPA) would be more likely to have access to positions they might enjoy."
   ]
  },
  {
   "cell_type": "markdown",
   "metadata": {},
   "source": [
    "# Dataset"
   ]
  },
  {
   "cell_type": "markdown",
   "metadata": {},
   "source": [
    "- Dataset Name: IPUMS Higher Ed\n",
    "- Link to the dataset: https://highered.ipums.org/highered/index.shtml\n",
    "- Number of observations: ~276,000\n",
    "\n",
    "This dataset contains data from the National Surveys of College Graduates and Recent College Graduates, or NSCG and NSRCG respectively. Specifically, we extracted data from 1993 to 1999 pertaining to undergraduate GPA, college major, salary, and job satisfaction. "
   ]
  },
  {
   "cell_type": "markdown",
   "metadata": {},
   "source": [
    "# Setup"
   ]
  },
  {
   "cell_type": "code",
   "execution_count": 45,
   "metadata": {},
   "outputs": [],
   "source": [
    "import pandas as pd\n",
    "\n",
    "import seaborn as sns\n",
    "\n",
    "import matplotlib as mpl\n",
    "import matplotlib.pyplot as plt\n",
    "plt.rcParams['figure.figsize'] = (17, 7)\n",
    "\n",
    "import patsy\n",
    "import statsmodels.api as sm\n",
    "\n",
    "import warnings\n",
    "warnings.filterwarnings('ignore')"
   ]
  },
  {
   "cell_type": "code",
   "execution_count": 3,
   "metadata": {},
   "outputs": [],
   "source": [
    "df = pd.read_csv('data.csv')"
   ]
  },
  {
   "cell_type": "markdown",
   "metadata": {},
   "source": [
    "# Data Cleaning"
   ]
  },
  {
   "cell_type": "markdown",
   "metadata": {},
   "source": [
    "Columns are renamed for easier manipulation. Rows with values that represent missing or non-applicable data are removed - the IPUMS database uses certain values, like 9999998 or 99, to represent such entries already, so removing them is easy. Empty data is NOT removed because the survey's questions changed when taken in different years, so some years do not have certain variables, but those years could still be used for analysis. Additionally, the numeric codes used by IPUMS are replaced with the descriptors they represent, for ease of use.\n",
    "\n",
    "While the dataset we obtained contains survey results from both the NSCG and NSRCG, only the latter contains GPA data, which is critical to answering our research question. Thus, any NSCG survey responses are dropped."
   ]
  },
  {
   "cell_type": "code",
   "execution_count": 6,
   "metadata": {},
   "outputs": [],
   "source": [
    "# give columns friendlier names\n",
    "df = df.rename(columns={'PERSONID':'id', 'YEAR':'year', 'SURID':'survey', 'NBAMEMG':'major', 'UGGPA':'gpa', \n",
    "                   'EXPFT':'yearsexperience', 'OCEDRLP':'jobrelated', 'SALARY':'salary', 'JOBSATIS':'jobsatisfaction'})\n",
    "\n",
    "# salary values of 9999998 or 9999999 represent missing or error data\n",
    "# GPA value of 8 represents respondent did not recall GPA or did not have one\n",
    "# job related value of 98 represents missing or error data\n",
    "# major value of 96 represents blank response\n",
    "# job satisfaction value of 98 represents missing or error data\n",
    "df = df[df['salary'] < 9999998]\n",
    "df = df[df['gpa'] != 8]\n",
    "df = df[df['jobrelated'] != 98]\n",
    "df = df[df['major'] != 96]\n",
    "df = df[df['jobsatisfaction'] != 98]\n",
    "\n",
    "\n",
    "# replace numeric values with the category/descriptor they represent\n",
    "df['survey'].replace([1,3],['NSCG','NSRCG'],inplace=True)\n",
    "df['major'].replace([1,2,3,4,5,6,7,9],['Computer and mathematical sciences',\n",
    "                                       'Life and related sciences',\n",
    "                                       'Physical and related sciences',\n",
    "                                       'Social and related sciences',\n",
    "                                       'Engineering',\n",
    "                                       'Science and engineering-related fields',\n",
    "                                       'Non-science and engineering fields',\n",
    "                                       'Others'],inplace=True)\n",
    "df['gpa'].replace([1,2,3,4,5],['4.00 - 3.75',\n",
    "                               '3.74 - 3.25',\n",
    "                               '3.24 - 2.75',\n",
    "                               '2.74 - 2.25',\n",
    "                               '< 2.25'],inplace=True)\n",
    "df['jobrelated'].replace([1,2,3],['Closely related',\n",
    "                                  'Somewhat related', \n",
    "                                  'Not related',],inplace=True)\n",
    "df['jobsatisfaction'].replace([1,2,3,4],['Very satisfied',\n",
    "                                          'Somewhat satisfied',\n",
    "                                          'Somewhat dissatisfied',\n",
    "                                          'Very dissatisfied'],inplace=True)\n",
    "\n",
    "# NSCG does not contain the data we need\n",
    "df = df[df['survey'] == 'NSRCG']"
   ]
  },
  {
   "cell_type": "markdown",
   "metadata": {},
   "source": [
    "# Data Analysis & Results"
   ]
  },
  {
   "cell_type": "markdown",
   "metadata": {},
   "source": [
    "### Exploring Data"
   ]
  },
  {
   "cell_type": "markdown",
   "metadata": {},
   "source": [
    "The data we are using comes from the National Survey of Recent College Graduates, which was conducted by the National Science Foundation. In particular, we are using the survey data from 1993, 1995, 1997, and 1999, since those years' surveys included a question about undergraduate GPA, which we need for our analysis. As seen by the shape of the dataframe, there are around 45 thousand observations from these four years - each observation being one individual's responses to the survey in a given year."
   ]
  },
  {
   "cell_type": "code",
   "execution_count": 7,
   "metadata": {},
   "outputs": [
    {
     "data": {
      "text/plain": [
       "(45002, 9)"
      ]
     },
     "execution_count": 7,
     "metadata": {},
     "output_type": "execute_result"
    }
   ],
   "source": [
    "df.shape"
   ]
  },
  {
   "cell_type": "markdown",
   "metadata": {},
   "source": [
    "Due to the nature of the survey, many of the variables are discrete: GPA, job satisfaction, and the relation between college major and field of work were given as multiple choice questions, so there are just a handful of groupings for these variables. Years of work experience and annual salary are continuous variables, however, measured in years and dollars respectively. "
   ]
  },
  {
   "cell_type": "code",
   "execution_count": 8,
   "metadata": {},
   "outputs": [
    {
     "data": {
      "text/html": [
       "<div>\n",
       "<style scoped>\n",
       "    .dataframe tbody tr th:only-of-type {\n",
       "        vertical-align: middle;\n",
       "    }\n",
       "\n",
       "    .dataframe tbody tr th {\n",
       "        vertical-align: top;\n",
       "    }\n",
       "\n",
       "    .dataframe thead th {\n",
       "        text-align: right;\n",
       "    }\n",
       "</style>\n",
       "<table border=\"1\" class=\"dataframe\">\n",
       "  <thead>\n",
       "    <tr style=\"text-align: right;\">\n",
       "      <th></th>\n",
       "      <th>id</th>\n",
       "      <th>year</th>\n",
       "      <th>survey</th>\n",
       "      <th>major</th>\n",
       "      <th>gpa</th>\n",
       "      <th>yearsexperience</th>\n",
       "      <th>jobrelated</th>\n",
       "      <th>salary</th>\n",
       "      <th>jobsatisfaction</th>\n",
       "    </tr>\n",
       "  </thead>\n",
       "  <tbody>\n",
       "    <tr>\n",
       "      <th>67855</th>\n",
       "      <td>30000000000000001</td>\n",
       "      <td>1993</td>\n",
       "      <td>NSRCG</td>\n",
       "      <td>Engineering</td>\n",
       "      <td>3.24 - 2.75</td>\n",
       "      <td>3.0</td>\n",
       "      <td>Somewhat related</td>\n",
       "      <td>40000</td>\n",
       "      <td>NaN</td>\n",
       "    </tr>\n",
       "    <tr>\n",
       "      <th>67856</th>\n",
       "      <td>30000000000000002</td>\n",
       "      <td>1993</td>\n",
       "      <td>NSRCG</td>\n",
       "      <td>Engineering</td>\n",
       "      <td>4.00 - 3.75</td>\n",
       "      <td>2.0</td>\n",
       "      <td>Closely related</td>\n",
       "      <td>26000</td>\n",
       "      <td>NaN</td>\n",
       "    </tr>\n",
       "    <tr>\n",
       "      <th>67857</th>\n",
       "      <td>30000000000000003</td>\n",
       "      <td>1993</td>\n",
       "      <td>NSRCG</td>\n",
       "      <td>Engineering</td>\n",
       "      <td>3.24 - 2.75</td>\n",
       "      <td>3.0</td>\n",
       "      <td>Somewhat related</td>\n",
       "      <td>45000</td>\n",
       "      <td>NaN</td>\n",
       "    </tr>\n",
       "    <tr>\n",
       "      <th>67859</th>\n",
       "      <td>30000000000000005</td>\n",
       "      <td>1993</td>\n",
       "      <td>NSRCG</td>\n",
       "      <td>Non-science and engineering fields</td>\n",
       "      <td>3.74 - 3.25</td>\n",
       "      <td>1.0</td>\n",
       "      <td>Not related</td>\n",
       "      <td>13000</td>\n",
       "      <td>NaN</td>\n",
       "    </tr>\n",
       "    <tr>\n",
       "      <th>67860</th>\n",
       "      <td>30000000000000006</td>\n",
       "      <td>1993</td>\n",
       "      <td>NSRCG</td>\n",
       "      <td>Social and related sciences</td>\n",
       "      <td>3.24 - 2.75</td>\n",
       "      <td>2.0</td>\n",
       "      <td>Not related</td>\n",
       "      <td>21000</td>\n",
       "      <td>NaN</td>\n",
       "    </tr>\n",
       "  </tbody>\n",
       "</table>\n",
       "</div>"
      ],
      "text/plain": [
       "                      id  year survey                               major  \\\n",
       "67855  30000000000000001  1993  NSRCG                         Engineering   \n",
       "67856  30000000000000002  1993  NSRCG                         Engineering   \n",
       "67857  30000000000000003  1993  NSRCG                         Engineering   \n",
       "67859  30000000000000005  1993  NSRCG  Non-science and engineering fields   \n",
       "67860  30000000000000006  1993  NSRCG         Social and related sciences   \n",
       "\n",
       "               gpa  yearsexperience        jobrelated  salary jobsatisfaction  \n",
       "67855  3.24 - 2.75              3.0  Somewhat related   40000             NaN  \n",
       "67856  4.00 - 3.75              2.0   Closely related   26000             NaN  \n",
       "67857  3.24 - 2.75              3.0  Somewhat related   45000             NaN  \n",
       "67859  3.74 - 3.25              1.0       Not related   13000             NaN  \n",
       "67860  3.24 - 2.75              2.0       Not related   21000             NaN  "
      ]
     },
     "execution_count": 8,
     "metadata": {},
     "output_type": "execute_result"
    }
   ],
   "source": [
    "df.head()"
   ]
  },
  {
   "cell_type": "markdown",
   "metadata": {},
   "source": [
    "Additionally, the questions that were asked differed slightly in different years. For instance, job satisfaction was only surveyed once out of the four years - in 1997 only - so that variable has far fewer observations. Thus, it would be wrong to ignore rows missing this variable, since it does not indicate faulty data, and most of our analysis does not involve job satisfaction; at the same time, some analysis can be done on job satisfaction despite its smaller sample size, so it is left in the data. Similarly, data on job experience only exists for the 1993 and 1995 surveys.\n",
    "\n",
    "As seen below, these two variables have some missing values, just as expected. Aside from these, the dataset seems to have no missing data. Considering our dataset comes from IPUMS, which does some of its own cleaning and formatting, this is not unexpected."
   ]
  },
  {
   "cell_type": "code",
   "execution_count": 9,
   "metadata": {},
   "outputs": [
    {
     "data": {
      "text/plain": [
       "id                     0\n",
       "year                   0\n",
       "survey                 0\n",
       "major                  0\n",
       "gpa                    0\n",
       "yearsexperience    17734\n",
       "jobrelated             0\n",
       "salary                 0\n",
       "jobsatisfaction    35886\n",
       "dtype: int64"
      ]
     },
     "execution_count": 9,
     "metadata": {},
     "output_type": "execute_result"
    }
   ],
   "source": [
    "df.isna().sum()"
   ]
  },
  {
   "cell_type": "markdown",
   "metadata": {},
   "source": [
    "Each of the four years of the NSRCG survey received at least 8,000 responses, with responses peaking in 1995 at almost 14,000."
   ]
  },
  {
   "cell_type": "code",
   "execution_count": 11,
   "metadata": {},
   "outputs": [
    {
     "data": {
      "text/plain": [
       "1995    13961\n",
       "1993    13307\n",
       "1997     9116\n",
       "1999     8618\n",
       "Name: year, dtype: int64"
      ]
     },
     "execution_count": 11,
     "metadata": {},
     "output_type": "execute_result"
    }
   ],
   "source": [
    "df['year'].value_counts()"
   ]
  },
  {
   "cell_type": "markdown",
   "metadata": {},
   "source": [
    "By far the most common major category among survey respondents is engineering, followed by social sciences. The least common major group was non-science/engineering majors, making up roughly 2,000 respondents. This does not make analysis for those majors impossible, but the small sample size means it may be less meaningful."
   ]
  },
  {
   "cell_type": "code",
   "execution_count": 12,
   "metadata": {},
   "outputs": [
    {
     "data": {
      "text/plain": [
       "Engineering                           15862\n",
       "Social and related sciences           11746\n",
       "Physical and related sciences          5663\n",
       "Life and related sciences              5095\n",
       "Computer and mathematical sciences     4501\n",
       "Non-science and engineering fields     2135\n",
       "Name: major, dtype: int64"
      ]
     },
     "execution_count": 12,
     "metadata": {},
     "output_type": "execute_result"
    }
   ],
   "source": [
    "df['major'].value_counts()"
   ]
  },
  {
   "cell_type": "markdown",
   "metadata": {},
   "source": [
    "The large majority of respondents reported having a GPA somewhere near 3.25. Very few survey-takers said they had a GPA of less than 2.25."
   ]
  },
  {
   "cell_type": "code",
   "execution_count": 13,
   "metadata": {},
   "outputs": [
    {
     "data": {
      "text/plain": [
       "3.24 - 2.75    18080\n",
       "3.74 - 3.25    14961\n",
       "4.00 - 3.75     5935\n",
       "2.74 - 2.25     5348\n",
       "< 2.25           678\n",
       "Name: gpa, dtype: int64"
      ]
     },
     "execution_count": 13,
     "metadata": {},
     "output_type": "execute_result"
    }
   ],
   "source": [
    "df['gpa'].value_counts()"
   ]
  },
  {
   "cell_type": "markdown",
   "metadata": {},
   "source": [
    "Most respondents had a job closely related to their major, but almost a fifth of them had one that was not related to their major at all."
   ]
  },
  {
   "cell_type": "code",
   "execution_count": 14,
   "metadata": {},
   "outputs": [
    {
     "data": {
      "text/plain": [
       "Closely related     23165\n",
       "Somewhat related    13292\n",
       "Not related          8545\n",
       "Name: jobrelated, dtype: int64"
      ]
     },
     "execution_count": 14,
     "metadata": {},
     "output_type": "execute_result"
    }
   ],
   "source": [
    "df['jobrelated'].value_counts()"
   ]
  },
  {
   "cell_type": "markdown",
   "metadata": {},
   "source": [
    "The majority of survey-takers feel at least somewhat satisfied with their job. However, it should be noted that this data was only collected in the 1997 survey, so the scope is more limited."
   ]
  },
  {
   "cell_type": "code",
   "execution_count": 15,
   "metadata": {},
   "outputs": [
    {
     "data": {
      "text/plain": [
       "Somewhat satisfied       3828\n",
       "Very satisfied           3801\n",
       "Somewhat dissatisfied     998\n",
       "Very dissatisfied         489\n",
       "Name: jobsatisfaction, dtype: int64"
      ]
     },
     "execution_count": 15,
     "metadata": {},
     "output_type": "execute_result"
    }
   ],
   "source": [
    "df['jobsatisfaction'].value_counts()"
   ]
  },
  {
   "cell_type": "markdown",
   "metadata": {},
   "source": [
    "Salaries reported in the survey appear relatively normal, with some outliers towards the higher end of the scale. There are a handful of respondents reporting very small salaries of less than 10,000 - these respondents might be working part-time, not working at all (salary of 0), or misunderstood the question and entered their monthly salary as opposed to annual salary. In all of these cases, it is best to remove the observation for the purpose of our analysis."
   ]
  },
  {
   "cell_type": "code",
   "execution_count": 16,
   "metadata": {},
   "outputs": [
    {
     "data": {
      "text/plain": [
       "count     45002.000000\n",
       "mean      30435.269544\n",
       "std       15279.033195\n",
       "min           0.000000\n",
       "25%       19000.000000\n",
       "50%       30000.000000\n",
       "75%       40000.000000\n",
       "max      100000.000000\n",
       "Name: salary, dtype: float64"
      ]
     },
     "execution_count": 16,
     "metadata": {},
     "output_type": "execute_result"
    }
   ],
   "source": [
    "df['salary'].describe()"
   ]
  },
  {
   "cell_type": "code",
   "execution_count": 20,
   "metadata": {
    "scrolled": false
   },
   "outputs": [
    {
     "data": {
      "image/png": "[encoded data removed]",
      "text/plain": [
       "<Figure size 1224x504 with 1 Axes>"
      ]
     },
     "metadata": {
      "needs_background": "light"
     },
     "output_type": "display_data"
    },
    {
     "data": {
      "text/plain": [
       "(2443, 9)"
      ]
     },
     "execution_count": 20,
     "metadata": {},
     "output_type": "execute_result"
    }
   ],
   "source": [
    "sns.distplot(df['salary'])\n",
    "plt.show()\n",
    "\n",
    "df[df['salary'] < 10000].shape"
   ]
  },
  {
   "cell_type": "code",
   "execution_count": 21,
   "metadata": {},
   "outputs": [],
   "source": [
    "# remove salaries that are illogically low\n",
    "df = df[df['salary'] > 10000]"
   ]
  },
  {
   "cell_type": "markdown",
   "metadata": {},
   "source": [
    "### Analysis"
   ]
  },
  {
   "cell_type": "markdown",
   "metadata": {},
   "source": [
    "We can begin with some boxplots of salary between the four GPA categories.\n",
    "\n",
    "As seen below, the median salary seems to increase slightly with higher GPAs, with the third quartile increasing more significantly - The exception for both of these being the lowest GPA category. However, each GPA group has a significant tail, and they all reach roughly the same salary."
   ]
  },
  {
   "cell_type": "code",
   "execution_count": 22,
   "metadata": {},
   "outputs": [],
   "source": [
    "# define order\n",
    "gpaorder = ['4.00 - 3.75','3.74 - 3.25','3.24 - 2.75','2.74 - 2.25','< 2.25']"
   ]
  },
  {
   "cell_type": "code",
   "execution_count": 25,
   "metadata": {},
   "outputs": [
    {
     "data": {
      "image/png": "[encoded data removed]",
      "text/plain": [
       "<Figure size 1224x504 with 1 Axes>"
      ]
     },
     "metadata": {
      "needs_background": "light"
     },
     "output_type": "display_data"
    }
   ],
   "source": [
    "ax = sns.boxplot(x='gpa', y='salary', data=df, order=gpaorder)\n",
    "ax.set_title('GPA & Salary')\n",
    "ax.set_xlabel('GPA')\n",
    "ax.set_ylabel('Annual Salary')\n",
    "plt.show()"
   ]
  },
  {
   "cell_type": "markdown",
   "metadata": {},
   "source": [
    "Next, we split the boxplot by whether or not the respondent's job is related to their major. The logic here is that, for jobs unrelated to major, GPA should matter less.\n",
    "\n",
    "Interestingly, while the median salary for those with major-unrelated jobs is lower for each GPA category, both the median and third quartile salary still increase with GPA, again with the exception of the lowest group."
   ]
  },
  {
   "cell_type": "code",
   "execution_count": 33,
   "metadata": {},
   "outputs": [],
   "source": [
    "# Make column for true if job is closely/somewhat related, false otherwise\n",
    "df['jobrelatedbool'] = df['jobrelated'].isin(['Closely related', 'Somewhat related'])\n",
    "boolorder = [True, False]"
   ]
  },
  {
   "cell_type": "code",
   "execution_count": 46,
   "metadata": {},
   "outputs": [
    {
     "data": {
      "image/png": "[encoded data removed]",
      "text/plain": [
       "<Figure size 1224x504 with 1 Axes>"
      ]
     },
     "metadata": {
      "needs_background": "light"
     },
     "output_type": "display_data"
    }
   ],
   "source": [
    "ax = sns.boxplot(x='gpa', y='salary', hue='jobrelatedbool', hue_order=boolorder, data=df, order=gpaorder)\n",
    "ax.set_title('GPA & Salary')\n",
    "ax.set_xlabel('GPA')\n",
    "ax.set_ylabel('Annual Salary')\n",
    "ax.axes.get_legend().set_title('Job Related to Major')\n",
    "\n",
    "plt.show()"
   ]
  },
  {
   "cell_type": "markdown",
   "metadata": {},
   "source": [
    "Now, we will create a linear model of GPA and salary and test its statistical significance, using Ordinary Least Squares, or OLS. First, we separate just the data for respondents whose jobs are related to their majors, since this is where we expect to have a more significant relationship. Then, we create the OLS model using patsy and statsmodels, and display the results. We will use an alpha of 0.05 in analysis.\n",
    "\n",
    "The OLS model uses the GPA group of 2.74 - 2.25 as the reference variable, denoted by the fact that it does not appear as a row in the list of parameters. According to the summary, the GPA categories of 4.0 - 3.75, 3.74 - 3.25, and 3.24 - 2.75 are statistically significant predictors on salary; as the GPAs increase, so do the coefficients, which means that the expected salary for that category is higher.  \n",
    "The category for the lowest GPAs, <2.25, is not a statistically significant predictor. This is most likely due to the sample size being too small.\n",
    "\n",
    "It should be noted that the OLS model generated has an extremely low R-squared value of 0.002. R-squared is a measure of variance compared to the model - a low value means more variance. In this case, our R-squared value make sense: the range of salaries in each group is very large, and they all mostly overlap. This does not mean that the model is meaningless, however. The statistically significant coefficients represent changes in the mean salary, so those with a GPA between 4.0 and 3.75, for instance, would make roughly \\$2300 more on average than someone with a GPA between 2.74 and 2.25."
   ]
  },
  {
   "cell_type": "code",
   "execution_count": 59,
   "metadata": {},
   "outputs": [],
   "source": [
    "df_related = df[df['jobrelatedbool'] == True]\n",
    "df_unrelated = df[df['jobrelatedbool'] == False]"
   ]
  },
  {
   "cell_type": "code",
   "execution_count": 38,
   "metadata": {},
   "outputs": [
    {
     "data": {
      "text/html": [
       "<table class=\"simpletable\">\n",
       "<caption>OLS Regression Results</caption>\n",
       "<tr>\n",
       "  <th>Dep. Variable:</th>         <td>salary</td>      <th>  R-squared:         </th>  <td>   0.002</td>  \n",
       "</tr>\n",
       "<tr>\n",
       "  <th>Model:</th>                   <td>OLS</td>       <th>  Adj. R-squared:    </th>  <td>   0.002</td>  \n",
       "</tr>\n",
       "<tr>\n",
       "  <th>Method:</th>             <td>Least Squares</td>  <th>  F-statistic:       </th>  <td>   20.78</td>  \n",
       "</tr>\n",
       "<tr>\n",
       "  <th>Date:</th>             <td>Sun, 14 Mar 2021</td> <th>  Prob (F-statistic):</th>  <td>4.01e-17</td>  \n",
       "</tr>\n",
       "<tr>\n",
       "  <th>Time:</th>                 <td>21:18:28</td>     <th>  Log-Likelihood:    </th> <td>-3.7548e+05</td>\n",
       "</tr>\n",
       "<tr>\n",
       "  <th>No. Observations:</th>      <td> 34185</td>      <th>  AIC:               </th>  <td>7.510e+05</td> \n",
       "</tr>\n",
       "<tr>\n",
       "  <th>Df Residuals:</th>          <td> 34180</td>      <th>  BIC:               </th>  <td>7.510e+05</td> \n",
       "</tr>\n",
       "<tr>\n",
       "  <th>Df Model:</th>              <td>     4</td>      <th>                     </th>      <td> </td>     \n",
       "</tr>\n",
       "<tr>\n",
       "  <th>Covariance Type:</th>      <td>nonrobust</td>    <th>                     </th>      <td> </td>     \n",
       "</tr>\n",
       "</table>\n",
       "<table class=\"simpletable\">\n",
       "<tr>\n",
       "           <td></td>             <th>coef</th>     <th>std err</th>      <th>t</th>      <th>P>|t|</th>  <th>[0.025</th>    <th>0.975]</th>  \n",
       "</tr>\n",
       "<tr>\n",
       "  <th>Intercept</th>          <td>  3.21e+04</td> <td>  230.557</td> <td>  139.218</td> <td> 0.000</td> <td> 3.16e+04</td> <td> 3.25e+04</td>\n",
       "</tr>\n",
       "<tr>\n",
       "  <th>gpa[T.3.24 - 2.75]</th> <td> 1159.3792</td> <td>  261.135</td> <td>    4.440</td> <td> 0.000</td> <td>  647.546</td> <td> 1671.213</td>\n",
       "</tr>\n",
       "<tr>\n",
       "  <th>gpa[T.3.74 - 3.25]</th> <td> 1986.3705</td> <td>  265.874</td> <td>    7.471</td> <td> 0.000</td> <td> 1465.248</td> <td> 2507.493</td>\n",
       "</tr>\n",
       "<tr>\n",
       "  <th>gpa[T.4.00 - 3.75]</th> <td> 2354.5463</td> <td>  309.146</td> <td>    7.616</td> <td> 0.000</td> <td> 1748.610</td> <td> 2960.483</td>\n",
       "</tr>\n",
       "<tr>\n",
       "  <th>gpa[T.< 2.25]</th>      <td>  457.2302</td> <td>  695.407</td> <td>    0.657</td> <td> 0.511</td> <td> -905.791</td> <td> 1820.252</td>\n",
       "</tr>\n",
       "</table>\n",
       "<table class=\"simpletable\">\n",
       "<tr>\n",
       "  <th>Omnibus:</th>       <td>5139.437</td> <th>  Durbin-Watson:     </th> <td>   1.944</td> \n",
       "</tr>\n",
       "<tr>\n",
       "  <th>Prob(Omnibus):</th>  <td> 0.000</td>  <th>  Jarque-Bera (JB):  </th> <td>10013.230</td>\n",
       "</tr>\n",
       "<tr>\n",
       "  <th>Skew:</th>           <td> 0.938</td>  <th>  Prob(JB):          </th> <td>    0.00</td> \n",
       "</tr>\n",
       "<tr>\n",
       "  <th>Kurtosis:</th>       <td> 4.874</td>  <th>  Cond. No.          </th> <td>    10.7</td> \n",
       "</tr>\n",
       "</table><br/><br/>Notes:<br/>[1] Standard Errors assume that the covariance matrix of the errors is correctly specified."
      ],
      "text/plain": [
       "<class 'statsmodels.iolib.summary.Summary'>\n",
       "\"\"\"\n",
       "                            OLS Regression Results                            \n",
       "==============================================================================\n",
       "Dep. Variable:                 salary   R-squared:                       0.002\n",
       "Model:                            OLS   Adj. R-squared:                  0.002\n",
       "Method:                 Least Squares   F-statistic:                     20.78\n",
       "Date:                Sun, 14 Mar 2021   Prob (F-statistic):           4.01e-17\n",
       "Time:                        21:18:28   Log-Likelihood:            -3.7548e+05\n",
       "No. Observations:               34185   AIC:                         7.510e+05\n",
       "Df Residuals:                   34180   BIC:                         7.510e+05\n",
       "Df Model:                           4                                         \n",
       "Covariance Type:            nonrobust                                         \n",
       "======================================================================================\n",
       "                         coef    std err          t      P>|t|      [0.025      0.975]\n",
       "--------------------------------------------------------------------------------------\n",
       "Intercept            3.21e+04    230.557    139.218      0.000    3.16e+04    3.25e+04\n",
       "gpa[T.3.24 - 2.75]  1159.3792    261.135      4.440      0.000     647.546    1671.213\n",
       "gpa[T.3.74 - 3.25]  1986.3705    265.874      7.471      0.000    1465.248    2507.493\n",
       "gpa[T.4.00 - 3.75]  2354.5463    309.146      7.616      0.000    1748.610    2960.483\n",
       "gpa[T.< 2.25]        457.2302    695.407      0.657      0.511    -905.791    1820.252\n",
       "==============================================================================\n",
       "Omnibus:                     5139.437   Durbin-Watson:                   1.944\n",
       "Prob(Omnibus):                  0.000   Jarque-Bera (JB):            10013.230\n",
       "Skew:                           0.938   Prob(JB):                         0.00\n",
       "Kurtosis:                       4.874   Cond. No.                         10.7\n",
       "==============================================================================\n",
       "\n",
       "Notes:\n",
       "[1] Standard Errors assume that the covariance matrix of the errors is correctly specified.\n",
       "\"\"\""
      ]
     },
     "execution_count": 38,
     "metadata": {},
     "output_type": "execute_result"
    }
   ],
   "source": [
    "outcome, predictors = patsy.dmatrices('salary ~ gpa', df_related)\n",
    "model = sm.OLS(outcome, predictors)\n",
    "result = model.fit()\n",
    "\n",
    "result.summary()"
   ]
  },
  {
   "cell_type": "markdown",
   "metadata": {},
   "source": [
    "We can repeat this process on the set of data from respondents whose jobs are not related to their major, as seen below. This model is similar in many ways to the previous one, including the low R-squared. Here, perhaps surprisingly, there are some GPA groups that are statistically significant predictors: 4.0 - 3.75 and 3.74 - 3.25. In fact, the coefficients for these groups are higher than they were in the previous model, signifying they make a larger difference in mean salary."
   ]
  },
  {
   "cell_type": "code",
   "execution_count": 60,
   "metadata": {},
   "outputs": [
    {
     "data": {
      "text/html": [
       "<table class=\"simpletable\">\n",
       "<caption>OLS Regression Results</caption>\n",
       "<tr>\n",
       "  <th>Dep. Variable:</th>         <td>salary</td>      <th>  R-squared:         </th> <td>   0.007</td> \n",
       "</tr>\n",
       "<tr>\n",
       "  <th>Model:</th>                   <td>OLS</td>       <th>  Adj. R-squared:    </th> <td>   0.006</td> \n",
       "</tr>\n",
       "<tr>\n",
       "  <th>Method:</th>             <td>Least Squares</td>  <th>  F-statistic:       </th> <td>   12.24</td> \n",
       "</tr>\n",
       "<tr>\n",
       "  <th>Date:</th>             <td>Sun, 14 Mar 2021</td> <th>  Prob (F-statistic):</th> <td>6.41e-10</td> \n",
       "</tr>\n",
       "<tr>\n",
       "  <th>Time:</th>                 <td>22:04:13</td>     <th>  Log-Likelihood:    </th> <td> -80518.</td> \n",
       "</tr>\n",
       "<tr>\n",
       "  <th>No. Observations:</th>      <td>  7399</td>      <th>  AIC:               </th> <td>1.610e+05</td>\n",
       "</tr>\n",
       "<tr>\n",
       "  <th>Df Residuals:</th>          <td>  7394</td>      <th>  BIC:               </th> <td>1.611e+05</td>\n",
       "</tr>\n",
       "<tr>\n",
       "  <th>Df Model:</th>              <td>     4</td>      <th>                     </th>     <td> </td>    \n",
       "</tr>\n",
       "<tr>\n",
       "  <th>Covariance Type:</th>      <td>nonrobust</td>    <th>                     </th>     <td> </td>    \n",
       "</tr>\n",
       "</table>\n",
       "<table class=\"simpletable\">\n",
       "<tr>\n",
       "           <td></td>             <th>coef</th>     <th>std err</th>      <th>t</th>      <th>P>|t|</th>  <th>[0.025</th>    <th>0.975]</th>  \n",
       "</tr>\n",
       "<tr>\n",
       "  <th>Intercept</th>          <td> 2.552e+04</td> <td>  372.210</td> <td>   68.550</td> <td> 0.000</td> <td> 2.48e+04</td> <td> 2.62e+04</td>\n",
       "</tr>\n",
       "<tr>\n",
       "  <th>gpa[T.3.24 - 2.75]</th> <td>  621.6228</td> <td>  433.533</td> <td>    1.434</td> <td> 0.152</td> <td> -228.226</td> <td> 1471.471</td>\n",
       "</tr>\n",
       "<tr>\n",
       "  <th>gpa[T.3.74 - 3.25]</th> <td> 2040.7433</td> <td>  466.894</td> <td>    4.371</td> <td> 0.000</td> <td> 1125.498</td> <td> 2955.989</td>\n",
       "</tr>\n",
       "<tr>\n",
       "  <th>gpa[T.4.00 - 3.75]</th> <td> 3716.6615</td> <td>  649.065</td> <td>    5.726</td> <td> 0.000</td> <td> 2444.310</td> <td> 4989.013</td>\n",
       "</tr>\n",
       "<tr>\n",
       "  <th>gpa[T.< 2.25]</th>      <td> 1906.6617</td> <td> 1066.942</td> <td>    1.787</td> <td> 0.074</td> <td> -184.849</td> <td> 3998.173</td>\n",
       "</tr>\n",
       "</table>\n",
       "<table class=\"simpletable\">\n",
       "<tr>\n",
       "  <th>Omnibus:</th>       <td>2924.394</td> <th>  Durbin-Watson:     </th> <td>   1.932</td> \n",
       "</tr>\n",
       "<tr>\n",
       "  <th>Prob(Omnibus):</th>  <td> 0.000</td>  <th>  Jarque-Bera (JB):  </th> <td>14794.033</td>\n",
       "</tr>\n",
       "<tr>\n",
       "  <th>Skew:</th>           <td> 1.855</td>  <th>  Prob(JB):          </th> <td>    0.00</td> \n",
       "</tr>\n",
       "<tr>\n",
       "  <th>Kurtosis:</th>       <td> 8.850</td>  <th>  Cond. No.          </th> <td>    8.63</td> \n",
       "</tr>\n",
       "</table><br/><br/>Notes:<br/>[1] Standard Errors assume that the covariance matrix of the errors is correctly specified."
      ],
      "text/plain": [
       "<class 'statsmodels.iolib.summary.Summary'>\n",
       "\"\"\"\n",
       "                            OLS Regression Results                            \n",
       "==============================================================================\n",
       "Dep. Variable:                 salary   R-squared:                       0.007\n",
       "Model:                            OLS   Adj. R-squared:                  0.006\n",
       "Method:                 Least Squares   F-statistic:                     12.24\n",
       "Date:                Sun, 14 Mar 2021   Prob (F-statistic):           6.41e-10\n",
       "Time:                        22:04:13   Log-Likelihood:                -80518.\n",
       "No. Observations:                7399   AIC:                         1.610e+05\n",
       "Df Residuals:                    7394   BIC:                         1.611e+05\n",
       "Df Model:                           4                                         \n",
       "Covariance Type:            nonrobust                                         \n",
       "======================================================================================\n",
       "                         coef    std err          t      P>|t|      [0.025      0.975]\n",
       "--------------------------------------------------------------------------------------\n",
       "Intercept           2.552e+04    372.210     68.550      0.000    2.48e+04    2.62e+04\n",
       "gpa[T.3.24 - 2.75]   621.6228    433.533      1.434      0.152    -228.226    1471.471\n",
       "gpa[T.3.74 - 3.25]  2040.7433    466.894      4.371      0.000    1125.498    2955.989\n",
       "gpa[T.4.00 - 3.75]  3716.6615    649.065      5.726      0.000    2444.310    4989.013\n",
       "gpa[T.< 2.25]       1906.6617   1066.942      1.787      0.074    -184.849    3998.173\n",
       "==============================================================================\n",
       "Omnibus:                     2924.394   Durbin-Watson:                   1.932\n",
       "Prob(Omnibus):                  0.000   Jarque-Bera (JB):            14794.033\n",
       "Skew:                           1.855   Prob(JB):                         0.00\n",
       "Kurtosis:                       8.850   Cond. No.                         8.63\n",
       "==============================================================================\n",
       "\n",
       "Notes:\n",
       "[1] Standard Errors assume that the covariance matrix of the errors is correctly specified.\n",
       "\"\"\""
      ]
     },
     "execution_count": 60,
     "metadata": {},
     "output_type": "execute_result"
    }
   ],
   "source": [
    "outcome_ur, predictors_ur = patsy.dmatrices('salary ~ gpa', df_unrelated)\n",
    "model_ur = sm.OLS(outcome_ur, predictors_ur)\n",
    "result_ur = model_ur.fit()\n",
    "\n",
    "result_ur.summary()"
   ]
  },
  {
   "cell_type": "markdown",
   "metadata": {},
   "source": [
    "### Analysis by Major"
   ]
  },
  {
   "cell_type": "markdown",
   "metadata": {},
   "source": [
    "The next step is to compare the effect of GPA in different majors. First, we split the dataframe by major, and graph their boxplots. For the sake of visual clarity, only the data from respondents whose jobs relate to their major is visualized.\n",
    "\n",
    "The boxplots below show some interesting differences across categories of majors. For some, like engineering or computer and math related majors, salaries seem to trend significantly upward with GPA. For others, like life sciences, there are fewer differences. Strangely, the physical science-related majors with the highest GPAs have the lowest median salary of any group."
   ]
  },
  {
   "cell_type": "code",
   "execution_count": 56,
   "metadata": {},
   "outputs": [],
   "source": [
    "# group by major\n",
    "engineering = df_related[df_related['major'] == 'Engineering']\n",
    "lifesciences = df_related[df_related['major'] == 'Life and related sciences']\n",
    "nonscience = df_related[df_related['major'] == 'Non-science and engineering fields']\n",
    "compmathsciences = df_related[df_related['major'] == 'Computer and mathematical sciences']\n",
    "socialsciences = df_related[df_related['major'] == 'Social and related sciences']\n",
    "physicalsciences = df_related[df_related['major'] == 'Physical and related sciences']"
   ]
  },
  {
   "cell_type": "code",
   "execution_count": 57,
   "metadata": {},
   "outputs": [
    {
     "data": {
      "image/png": "[encoded data removed]",
      "text/plain": [
       "<Figure size 1224x1224 with 6 Axes>"
      ]
     },
     "metadata": {
      "needs_background": "light"
     },
     "output_type": "display_data"
    }
   ],
   "source": [
    "# plt.rcParams['figure.figsize'] = (17, 17)\n",
    "\n",
    "plt.subplots(3, 2, figsize=(17,17))\n",
    "\n",
    "plt.subplot(3, 2, 1)\n",
    "sns.boxplot(x='gpa', y='salary', data=engineering, order=gpaorder).set_title('GPA & Salary (Engineering)')\n",
    "\n",
    "plt.subplot(3, 2, 2)\n",
    "sns.boxplot(x='gpa', y='salary', data=lifesciences, order=gpaorder).set_title('GPA & Salary (Life and related sciences)')\n",
    "\n",
    "plt.subplot(3, 2, 3)\n",
    "sns.boxplot(x='gpa', y='salary', data=nonscience, order=gpaorder).set_title('GPA & Salary (Non-science)')\n",
    "\n",
    "plt.subplot(3, 2, 4)\n",
    "sns.boxplot(x='gpa', y='salary', data=compmathsciences, order=gpaorder).set_title('GPA & Salary (Computational/math sciences)')\n",
    "\n",
    "plt.subplot(3, 2, 5)\n",
    "sns.boxplot(x='gpa', y='salary', data=socialsciences, order=gpaorder).set_title('GPA & Salary (Social sciences)')\n",
    "\n",
    "plt.subplot(3, 2, 6)\n",
    "sns.boxplot(x='gpa', y='salary', data=physicalsciences, order=gpaorder).set_title('GPA & Salary (Physical sciences)')\n",
    "\n",
    "plt.tight_layout()\n",
    "plt.show()"
   ]
  },
  {
   "cell_type": "markdown",
   "metadata": {},
   "source": [
    "We will again build linear models to test the significance of GPA against salary, this time only using data from one set of majors. "
   ]
  },
  {
   "cell_type": "code",
   "execution_count": 58,
   "metadata": {},
   "outputs": [
    {
     "data": {
      "text/html": [
       "<table class=\"simpletable\">\n",
       "<caption>OLS Regression Results</caption>\n",
       "<tr>\n",
       "  <th>Dep. Variable:</th>         <td>salary</td>      <th>  R-squared:         </th>  <td>   0.007</td>  \n",
       "</tr>\n",
       "<tr>\n",
       "  <th>Model:</th>                   <td>OLS</td>       <th>  Adj. R-squared:    </th>  <td>   0.007</td>  \n",
       "</tr>\n",
       "<tr>\n",
       "  <th>Method:</th>             <td>Least Squares</td>  <th>  F-statistic:       </th>  <td>   25.50</td>  \n",
       "</tr>\n",
       "<tr>\n",
       "  <th>Date:</th>             <td>Sun, 14 Mar 2021</td> <th>  Prob (F-statistic):</th>  <td>4.46e-21</td>  \n",
       "</tr>\n",
       "<tr>\n",
       "  <th>Time:</th>                 <td>22:00:26</td>     <th>  Log-Likelihood:    </th> <td>-1.5101e+05</td>\n",
       "</tr>\n",
       "<tr>\n",
       "  <th>No. Observations:</th>      <td> 13853</td>      <th>  AIC:               </th>  <td>3.020e+05</td> \n",
       "</tr>\n",
       "<tr>\n",
       "  <th>Df Residuals:</th>          <td> 13848</td>      <th>  BIC:               </th>  <td>3.021e+05</td> \n",
       "</tr>\n",
       "<tr>\n",
       "  <th>Df Model:</th>              <td>     4</td>      <th>                     </th>      <td> </td>     \n",
       "</tr>\n",
       "<tr>\n",
       "  <th>Covariance Type:</th>      <td>nonrobust</td>    <th>                     </th>      <td> </td>     \n",
       "</tr>\n",
       "</table>\n",
       "<table class=\"simpletable\">\n",
       "<tr>\n",
       "           <td></td>             <th>coef</th>     <th>std err</th>      <th>t</th>      <th>P>|t|</th>  <th>[0.025</th>    <th>0.975]</th>  \n",
       "</tr>\n",
       "<tr>\n",
       "  <th>Intercept</th>          <td> 3.631e+04</td> <td>  322.394</td> <td>  112.632</td> <td> 0.000</td> <td> 3.57e+04</td> <td> 3.69e+04</td>\n",
       "</tr>\n",
       "<tr>\n",
       "  <th>gpa[T.3.24 - 2.75]</th> <td> 1811.1617</td> <td>  367.196</td> <td>    4.932</td> <td> 0.000</td> <td> 1091.409</td> <td> 2530.915</td>\n",
       "</tr>\n",
       "<tr>\n",
       "  <th>gpa[T.3.74 - 3.25]</th> <td> 3185.8984</td> <td>  375.979</td> <td>    8.474</td> <td> 0.000</td> <td> 2448.928</td> <td> 3922.868</td>\n",
       "</tr>\n",
       "<tr>\n",
       "  <th>gpa[T.4.00 - 3.75]</th> <td> 3367.1028</td> <td>  445.557</td> <td>    7.557</td> <td> 0.000</td> <td> 2493.752</td> <td> 4240.454</td>\n",
       "</tr>\n",
       "<tr>\n",
       "  <th>gpa[T.< 2.25]</th>      <td> -838.1373</td> <td> 1005.453</td> <td>   -0.834</td> <td> 0.405</td> <td>-2808.960</td> <td> 1132.686</td>\n",
       "</tr>\n",
       "</table>\n",
       "<table class=\"simpletable\">\n",
       "<tr>\n",
       "  <th>Omnibus:</th>       <td>1423.583</td> <th>  Durbin-Watson:     </th> <td>   1.863</td>\n",
       "</tr>\n",
       "<tr>\n",
       "  <th>Prob(Omnibus):</th>  <td> 0.000</td>  <th>  Jarque-Bera (JB):  </th> <td>3513.850</td>\n",
       "</tr>\n",
       "<tr>\n",
       "  <th>Skew:</th>           <td> 0.606</td>  <th>  Prob(JB):          </th> <td>    0.00</td>\n",
       "</tr>\n",
       "<tr>\n",
       "  <th>Kurtosis:</th>       <td> 5.149</td>  <th>  Cond. No.          </th> <td>    10.7</td>\n",
       "</tr>\n",
       "</table><br/><br/>Notes:<br/>[1] Standard Errors assume that the covariance matrix of the errors is correctly specified."
      ],
      "text/plain": [
       "<class 'statsmodels.iolib.summary.Summary'>\n",
       "\"\"\"\n",
       "                            OLS Regression Results                            \n",
       "==============================================================================\n",
       "Dep. Variable:                 salary   R-squared:                       0.007\n",
       "Model:                            OLS   Adj. R-squared:                  0.007\n",
       "Method:                 Least Squares   F-statistic:                     25.50\n",
       "Date:                Sun, 14 Mar 2021   Prob (F-statistic):           4.46e-21\n",
       "Time:                        22:00:26   Log-Likelihood:            -1.5101e+05\n",
       "No. Observations:               13853   AIC:                         3.020e+05\n",
       "Df Residuals:                   13848   BIC:                         3.021e+05\n",
       "Df Model:                           4                                         \n",
       "Covariance Type:            nonrobust                                         \n",
       "======================================================================================\n",
       "                         coef    std err          t      P>|t|      [0.025      0.975]\n",
       "--------------------------------------------------------------------------------------\n",
       "Intercept           3.631e+04    322.394    112.632      0.000    3.57e+04    3.69e+04\n",
       "gpa[T.3.24 - 2.75]  1811.1617    367.196      4.932      0.000    1091.409    2530.915\n",
       "gpa[T.3.74 - 3.25]  3185.8984    375.979      8.474      0.000    2448.928    3922.868\n",
       "gpa[T.4.00 - 3.75]  3367.1028    445.557      7.557      0.000    2493.752    4240.454\n",
       "gpa[T.< 2.25]       -838.1373   1005.453     -0.834      0.405   -2808.960    1132.686\n",
       "==============================================================================\n",
       "Omnibus:                     1423.583   Durbin-Watson:                   1.863\n",
       "Prob(Omnibus):                  0.000   Jarque-Bera (JB):             3513.850\n",
       "Skew:                           0.606   Prob(JB):                         0.00\n",
       "Kurtosis:                       5.149   Cond. No.                         10.7\n",
       "==============================================================================\n",
       "\n",
       "Notes:\n",
       "[1] Standard Errors assume that the covariance matrix of the errors is correctly specified.\n",
       "\"\"\""
      ]
     },
     "execution_count": 58,
     "metadata": {},
     "output_type": "execute_result"
    }
   ],
   "source": [
    "outcome_e, predictors_e = patsy.dmatrices('salary ~ gpa', engineering)\n",
    "model_e = sm.OLS(outcome_e, predictors_e)\n",
    "result_e = model_e.fit()\n",
    "\n",
    "result_e.summary()"
   ]
  },
  {
   "cell_type": "markdown",
   "metadata": {},
   "source": [
    "The above model, looking at engineering majors, is very similar to the one created from looking at all of the data. The GPA ranges 4.0 - 3.75, 3.74 - 3.25, and 3.24 - 2.75 are all statistically significant predictors, while GPAs of <2.25 are not. Additionally, we have a very low R-squared value again.\n",
    "\n",
    "Interestingly, the coefficients for the different GPA groups are higher than the corresponding coefficients from the model for all majors, meaning higher GPAs correlate to greater salary increases comparatively. Given the complexity of the engineering field, this seems logical."
   ]
  },
  {
   "cell_type": "code",
   "execution_count": 61,
   "metadata": {},
   "outputs": [
    {
     "data": {
      "text/html": [
       "<table class=\"simpletable\">\n",
       "<caption>OLS Regression Results</caption>\n",
       "<tr>\n",
       "  <th>Dep. Variable:</th>         <td>salary</td>      <th>  R-squared:         </th> <td>   0.002</td> \n",
       "</tr>\n",
       "<tr>\n",
       "  <th>Model:</th>                   <td>OLS</td>       <th>  Adj. R-squared:    </th> <td>   0.001</td> \n",
       "</tr>\n",
       "<tr>\n",
       "  <th>Method:</th>             <td>Least Squares</td>  <th>  F-statistic:       </th> <td>   1.756</td> \n",
       "</tr>\n",
       "<tr>\n",
       "  <th>Date:</th>             <td>Sun, 14 Mar 2021</td> <th>  Prob (F-statistic):</th>  <td> 0.135</td>  \n",
       "</tr>\n",
       "<tr>\n",
       "  <th>Time:</th>                 <td>22:12:07</td>     <th>  Log-Likelihood:    </th> <td> -38101.</td> \n",
       "</tr>\n",
       "<tr>\n",
       "  <th>No. Observations:</th>      <td>  3541</td>      <th>  AIC:               </th> <td>7.621e+04</td>\n",
       "</tr>\n",
       "<tr>\n",
       "  <th>Df Residuals:</th>          <td>  3536</td>      <th>  BIC:               </th> <td>7.624e+04</td>\n",
       "</tr>\n",
       "<tr>\n",
       "  <th>Df Model:</th>              <td>     4</td>      <th>                     </th>     <td> </td>    \n",
       "</tr>\n",
       "<tr>\n",
       "  <th>Covariance Type:</th>      <td>nonrobust</td>    <th>                     </th>     <td> </td>    \n",
       "</tr>\n",
       "</table>\n",
       "<table class=\"simpletable\">\n",
       "<tr>\n",
       "           <td></td>             <th>coef</th>     <th>std err</th>      <th>t</th>      <th>P>|t|</th>  <th>[0.025</th>    <th>0.975]</th>  \n",
       "</tr>\n",
       "<tr>\n",
       "  <th>Intercept</th>          <td> 2.569e+04</td> <td>  568.064</td> <td>   45.232</td> <td> 0.000</td> <td> 2.46e+04</td> <td> 2.68e+04</td>\n",
       "</tr>\n",
       "<tr>\n",
       "  <th>gpa[T.3.24 - 2.75]</th> <td>  910.6402</td> <td>  636.236</td> <td>    1.431</td> <td> 0.152</td> <td> -336.787</td> <td> 2158.067</td>\n",
       "</tr>\n",
       "<tr>\n",
       "  <th>gpa[T.3.74 - 3.25]</th> <td>  951.0070</td> <td>  662.584</td> <td>    1.435</td> <td> 0.151</td> <td> -348.078</td> <td> 2250.092</td>\n",
       "</tr>\n",
       "<tr>\n",
       "  <th>gpa[T.4.00 - 3.75]</th> <td> 1863.9577</td> <td>  813.783</td> <td>    2.290</td> <td> 0.022</td> <td>  268.425</td> <td> 3459.490</td>\n",
       "</tr>\n",
       "<tr>\n",
       "  <th>gpa[T.< 2.25]</th>      <td> 3022.1921</td> <td> 1666.255</td> <td>    1.814</td> <td> 0.070</td> <td> -244.726</td> <td> 6289.110</td>\n",
       "</tr>\n",
       "</table>\n",
       "<table class=\"simpletable\">\n",
       "<tr>\n",
       "  <th>Omnibus:</th>       <td>1308.904</td> <th>  Durbin-Watson:     </th> <td>   1.982</td>\n",
       "</tr>\n",
       "<tr>\n",
       "  <th>Prob(Omnibus):</th>  <td> 0.000</td>  <th>  Jarque-Bera (JB):  </th> <td>6583.504</td>\n",
       "</tr>\n",
       "<tr>\n",
       "  <th>Skew:</th>           <td> 1.704</td>  <th>  Prob(JB):          </th> <td>    0.00</td>\n",
       "</tr>\n",
       "<tr>\n",
       "  <th>Kurtosis:</th>       <td> 8.745</td>  <th>  Cond. No.          </th> <td>    10.5</td>\n",
       "</tr>\n",
       "</table><br/><br/>Notes:<br/>[1] Standard Errors assume that the covariance matrix of the errors is correctly specified."
      ],
      "text/plain": [
       "<class 'statsmodels.iolib.summary.Summary'>\n",
       "\"\"\"\n",
       "                            OLS Regression Results                            \n",
       "==============================================================================\n",
       "Dep. Variable:                 salary   R-squared:                       0.002\n",
       "Model:                            OLS   Adj. R-squared:                  0.001\n",
       "Method:                 Least Squares   F-statistic:                     1.756\n",
       "Date:                Sun, 14 Mar 2021   Prob (F-statistic):              0.135\n",
       "Time:                        22:12:07   Log-Likelihood:                -38101.\n",
       "No. Observations:                3541   AIC:                         7.621e+04\n",
       "Df Residuals:                    3536   BIC:                         7.624e+04\n",
       "Df Model:                           4                                         \n",
       "Covariance Type:            nonrobust                                         \n",
       "======================================================================================\n",
       "                         coef    std err          t      P>|t|      [0.025      0.975]\n",
       "--------------------------------------------------------------------------------------\n",
       "Intercept           2.569e+04    568.064     45.232      0.000    2.46e+04    2.68e+04\n",
       "gpa[T.3.24 - 2.75]   910.6402    636.236      1.431      0.152    -336.787    2158.067\n",
       "gpa[T.3.74 - 3.25]   951.0070    662.584      1.435      0.151    -348.078    2250.092\n",
       "gpa[T.4.00 - 3.75]  1863.9577    813.783      2.290      0.022     268.425    3459.490\n",
       "gpa[T.< 2.25]       3022.1921   1666.255      1.814      0.070    -244.726    6289.110\n",
       "==============================================================================\n",
       "Omnibus:                     1308.904   Durbin-Watson:                   1.982\n",
       "Prob(Omnibus):                  0.000   Jarque-Bera (JB):             6583.504\n",
       "Skew:                           1.704   Prob(JB):                         0.00\n",
       "Kurtosis:                       8.745   Cond. No.                         10.5\n",
       "==============================================================================\n",
       "\n",
       "Notes:\n",
       "[1] Standard Errors assume that the covariance matrix of the errors is correctly specified.\n",
       "\"\"\""
      ]
     },
     "execution_count": 61,
     "metadata": {},
     "output_type": "execute_result"
    }
   ],
   "source": [
    "outcome_l, predictors_l = patsy.dmatrices('salary ~ gpa', lifesciences)\n",
    "model_l = sm.OLS(outcome_l, predictors_l)\n",
    "result_l = model_l.fit()\n",
    "\n",
    "result_l.summary()"
   ]
  },
  {
   "cell_type": "markdown",
   "metadata": {},
   "source": [
    "This model, analyzing life sciences majors, produces no statistically significant predictors from GPA. This matches the graphical analysis of the boxplots: between different GPAs, there are few significant differences in salary."
   ]
  },
  {
   "cell_type": "code",
   "execution_count": 62,
   "metadata": {},
   "outputs": [
    {
     "data": {
      "text/html": [
       "<table class=\"simpletable\">\n",
       "<caption>OLS Regression Results</caption>\n",
       "<tr>\n",
       "  <th>Dep. Variable:</th>         <td>salary</td>      <th>  R-squared:         </th> <td>   0.002</td> \n",
       "</tr>\n",
       "<tr>\n",
       "  <th>Model:</th>                   <td>OLS</td>       <th>  Adj. R-squared:    </th> <td>  -0.001</td> \n",
       "</tr>\n",
       "<tr>\n",
       "  <th>Method:</th>             <td>Least Squares</td>  <th>  F-statistic:       </th> <td>  0.6846</td> \n",
       "</tr>\n",
       "<tr>\n",
       "  <th>Date:</th>             <td>Sun, 14 Mar 2021</td> <th>  Prob (F-statistic):</th>  <td> 0.603</td>  \n",
       "</tr>\n",
       "<tr>\n",
       "  <th>Time:</th>                 <td>22:14:46</td>     <th>  Log-Likelihood:    </th> <td> -19753.</td> \n",
       "</tr>\n",
       "<tr>\n",
       "  <th>No. Observations:</th>      <td>  1779</td>      <th>  AIC:               </th> <td>3.952e+04</td>\n",
       "</tr>\n",
       "<tr>\n",
       "  <th>Df Residuals:</th>          <td>  1774</td>      <th>  BIC:               </th> <td>3.954e+04</td>\n",
       "</tr>\n",
       "<tr>\n",
       "  <th>Df Model:</th>              <td>     4</td>      <th>                     </th>     <td> </td>    \n",
       "</tr>\n",
       "<tr>\n",
       "  <th>Covariance Type:</th>      <td>nonrobust</td>    <th>                     </th>     <td> </td>    \n",
       "</tr>\n",
       "</table>\n",
       "<table class=\"simpletable\">\n",
       "<tr>\n",
       "           <td></td>             <th>coef</th>     <th>std err</th>      <th>t</th>      <th>P>|t|</th>  <th>[0.025</th>    <th>0.975]</th>  \n",
       "</tr>\n",
       "<tr>\n",
       "  <th>Intercept</th>          <td> 3.823e+04</td> <td> 1331.578</td> <td>   28.707</td> <td> 0.000</td> <td> 3.56e+04</td> <td> 4.08e+04</td>\n",
       "</tr>\n",
       "<tr>\n",
       "  <th>gpa[T.3.24 - 2.75]</th> <td> -360.8589</td> <td> 1479.401</td> <td>   -0.244</td> <td> 0.807</td> <td>-3262.410</td> <td> 2540.693</td>\n",
       "</tr>\n",
       "<tr>\n",
       "  <th>gpa[T.3.74 - 3.25]</th> <td>-1682.1137</td> <td> 1473.764</td> <td>   -1.141</td> <td> 0.254</td> <td>-4572.609</td> <td> 1208.382</td>\n",
       "</tr>\n",
       "<tr>\n",
       "  <th>gpa[T.4.00 - 3.75]</th> <td> -705.3173</td> <td> 1593.423</td> <td>   -0.443</td> <td> 0.658</td> <td>-3830.500</td> <td> 2419.866</td>\n",
       "</tr>\n",
       "<tr>\n",
       "  <th>gpa[T.< 2.25]</th>      <td> -965.1578</td> <td> 3609.492</td> <td>   -0.267</td> <td> 0.789</td> <td>-8044.462</td> <td> 6114.146</td>\n",
       "</tr>\n",
       "</table>\n",
       "<table class=\"simpletable\">\n",
       "<tr>\n",
       "  <th>Omnibus:</th>       <td>307.643</td> <th>  Durbin-Watson:     </th> <td>   1.815</td> \n",
       "</tr>\n",
       "<tr>\n",
       "  <th>Prob(Omnibus):</th> <td> 0.000</td>  <th>  Jarque-Bera (JB):  </th> <td> 553.028</td> \n",
       "</tr>\n",
       "<tr>\n",
       "  <th>Skew:</th>          <td> 1.076</td>  <th>  Prob(JB):          </th> <td>8.16e-121</td>\n",
       "</tr>\n",
       "<tr>\n",
       "  <th>Kurtosis:</th>      <td> 4.681</td>  <th>  Cond. No.          </th> <td>    11.5</td> \n",
       "</tr>\n",
       "</table><br/><br/>Notes:<br/>[1] Standard Errors assume that the covariance matrix of the errors is correctly specified."
      ],
      "text/plain": [
       "<class 'statsmodels.iolib.summary.Summary'>\n",
       "\"\"\"\n",
       "                            OLS Regression Results                            \n",
       "==============================================================================\n",
       "Dep. Variable:                 salary   R-squared:                       0.002\n",
       "Model:                            OLS   Adj. R-squared:                 -0.001\n",
       "Method:                 Least Squares   F-statistic:                    0.6846\n",
       "Date:                Sun, 14 Mar 2021   Prob (F-statistic):              0.603\n",
       "Time:                        22:14:46   Log-Likelihood:                -19753.\n",
       "No. Observations:                1779   AIC:                         3.952e+04\n",
       "Df Residuals:                    1774   BIC:                         3.954e+04\n",
       "Df Model:                           4                                         \n",
       "Covariance Type:            nonrobust                                         \n",
       "======================================================================================\n",
       "                         coef    std err          t      P>|t|      [0.025      0.975]\n",
       "--------------------------------------------------------------------------------------\n",
       "Intercept           3.823e+04   1331.578     28.707      0.000    3.56e+04    4.08e+04\n",
       "gpa[T.3.24 - 2.75]  -360.8589   1479.401     -0.244      0.807   -3262.410    2540.693\n",
       "gpa[T.3.74 - 3.25] -1682.1137   1473.764     -1.141      0.254   -4572.609    1208.382\n",
       "gpa[T.4.00 - 3.75]  -705.3173   1593.423     -0.443      0.658   -3830.500    2419.866\n",
       "gpa[T.< 2.25]       -965.1578   3609.492     -0.267      0.789   -8044.462    6114.146\n",
       "==============================================================================\n",
       "Omnibus:                      307.643   Durbin-Watson:                   1.815\n",
       "Prob(Omnibus):                  0.000   Jarque-Bera (JB):              553.028\n",
       "Skew:                           1.076   Prob(JB):                    8.16e-121\n",
       "Kurtosis:                       4.681   Cond. No.                         11.5\n",
       "==============================================================================\n",
       "\n",
       "Notes:\n",
       "[1] Standard Errors assume that the covariance matrix of the errors is correctly specified.\n",
       "\"\"\""
      ]
     },
     "execution_count": 62,
     "metadata": {},
     "output_type": "execute_result"
    }
   ],
   "source": [
    "outcome_n, predictors_n = patsy.dmatrices('salary ~ gpa', nonscience)\n",
    "model_n = sm.OLS(outcome_n, predictors_n)\n",
    "result_n = model_n.fit()\n",
    "\n",
    "result_n.summary()"
   ]
  },
  {
   "cell_type": "markdown",
   "metadata": {},
   "source": [
    "Just like the life sciences model, this non-science model does not show any statistical signifigance in GPA."
   ]
  },
  {
   "cell_type": "code",
   "execution_count": 63,
   "metadata": {},
   "outputs": [
    {
     "data": {
      "text/html": [
       "<table class=\"simpletable\">\n",
       "<caption>OLS Regression Results</caption>\n",
       "<tr>\n",
       "  <th>Dep. Variable:</th>         <td>salary</td>      <th>  R-squared:         </th> <td>   0.007</td> \n",
       "</tr>\n",
       "<tr>\n",
       "  <th>Model:</th>                   <td>OLS</td>       <th>  Adj. R-squared:    </th> <td>   0.005</td> \n",
       "</tr>\n",
       "<tr>\n",
       "  <th>Method:</th>             <td>Least Squares</td>  <th>  F-statistic:       </th> <td>   6.179</td> \n",
       "</tr>\n",
       "<tr>\n",
       "  <th>Date:</th>             <td>Sun, 14 Mar 2021</td> <th>  Prob (F-statistic):</th> <td>5.94e-05</td> \n",
       "</tr>\n",
       "<tr>\n",
       "  <th>Time:</th>                 <td>22:16:32</td>     <th>  Log-Likelihood:    </th> <td> -41625.</td> \n",
       "</tr>\n",
       "<tr>\n",
       "  <th>No. Observations:</th>      <td>  3759</td>      <th>  AIC:               </th> <td>8.326e+04</td>\n",
       "</tr>\n",
       "<tr>\n",
       "  <th>Df Residuals:</th>          <td>  3754</td>      <th>  BIC:               </th> <td>8.329e+04</td>\n",
       "</tr>\n",
       "<tr>\n",
       "  <th>Df Model:</th>              <td>     4</td>      <th>                     </th>     <td> </td>    \n",
       "</tr>\n",
       "<tr>\n",
       "  <th>Covariance Type:</th>      <td>nonrobust</td>    <th>                     </th>     <td> </td>    \n",
       "</tr>\n",
       "</table>\n",
       "<table class=\"simpletable\">\n",
       "<tr>\n",
       "           <td></td>             <th>coef</th>     <th>std err</th>      <th>t</th>      <th>P>|t|</th>  <th>[0.025</th>    <th>0.975]</th>  \n",
       "</tr>\n",
       "<tr>\n",
       "  <th>Intercept</th>          <td> 3.408e+04</td> <td>  856.381</td> <td>   39.793</td> <td> 0.000</td> <td> 3.24e+04</td> <td> 3.58e+04</td>\n",
       "</tr>\n",
       "<tr>\n",
       "  <th>gpa[T.3.24 - 2.75]</th> <td> 1409.9047</td> <td>  955.346</td> <td>    1.476</td> <td> 0.140</td> <td> -463.143</td> <td> 3282.952</td>\n",
       "</tr>\n",
       "<tr>\n",
       "  <th>gpa[T.3.74 - 3.25]</th> <td> 2874.2112</td> <td>  957.536</td> <td>    3.002</td> <td> 0.003</td> <td>  996.871</td> <td> 4751.552</td>\n",
       "</tr>\n",
       "<tr>\n",
       "  <th>gpa[T.4.00 - 3.75]</th> <td> 4250.7097</td> <td> 1040.781</td> <td>    4.084</td> <td> 0.000</td> <td> 2210.159</td> <td> 6291.260</td>\n",
       "</tr>\n",
       "<tr>\n",
       "  <th>gpa[T.< 2.25]</th>      <td>  812.9911</td> <td> 2454.902</td> <td>    0.331</td> <td> 0.741</td> <td>-4000.081</td> <td> 5626.063</td>\n",
       "</tr>\n",
       "</table>\n",
       "<table class=\"simpletable\">\n",
       "<tr>\n",
       "  <th>Omnibus:</th>       <td>627.481</td> <th>  Durbin-Watson:     </th> <td>   1.840</td> \n",
       "</tr>\n",
       "<tr>\n",
       "  <th>Prob(Omnibus):</th> <td> 0.000</td>  <th>  Jarque-Bera (JB):  </th> <td>1194.239</td> \n",
       "</tr>\n",
       "<tr>\n",
       "  <th>Skew:</th>          <td> 1.028</td>  <th>  Prob(JB):          </th> <td>4.72e-260</td>\n",
       "</tr>\n",
       "<tr>\n",
       "  <th>Kurtosis:</th>      <td> 4.843</td>  <th>  Cond. No.          </th> <td>    11.5</td> \n",
       "</tr>\n",
       "</table><br/><br/>Notes:<br/>[1] Standard Errors assume that the covariance matrix of the errors is correctly specified."
      ],
      "text/plain": [
       "<class 'statsmodels.iolib.summary.Summary'>\n",
       "\"\"\"\n",
       "                            OLS Regression Results                            \n",
       "==============================================================================\n",
       "Dep. Variable:                 salary   R-squared:                       0.007\n",
       "Model:                            OLS   Adj. R-squared:                  0.005\n",
       "Method:                 Least Squares   F-statistic:                     6.179\n",
       "Date:                Sun, 14 Mar 2021   Prob (F-statistic):           5.94e-05\n",
       "Time:                        22:16:32   Log-Likelihood:                -41625.\n",
       "No. Observations:                3759   AIC:                         8.326e+04\n",
       "Df Residuals:                    3754   BIC:                         8.329e+04\n",
       "Df Model:                           4                                         \n",
       "Covariance Type:            nonrobust                                         \n",
       "======================================================================================\n",
       "                         coef    std err          t      P>|t|      [0.025      0.975]\n",
       "--------------------------------------------------------------------------------------\n",
       "Intercept           3.408e+04    856.381     39.793      0.000    3.24e+04    3.58e+04\n",
       "gpa[T.3.24 - 2.75]  1409.9047    955.346      1.476      0.140    -463.143    3282.952\n",
       "gpa[T.3.74 - 3.25]  2874.2112    957.536      3.002      0.003     996.871    4751.552\n",
       "gpa[T.4.00 - 3.75]  4250.7097   1040.781      4.084      0.000    2210.159    6291.260\n",
       "gpa[T.< 2.25]        812.9911   2454.902      0.331      0.741   -4000.081    5626.063\n",
       "==============================================================================\n",
       "Omnibus:                      627.481   Durbin-Watson:                   1.840\n",
       "Prob(Omnibus):                  0.000   Jarque-Bera (JB):             1194.239\n",
       "Skew:                           1.028   Prob(JB):                    4.72e-260\n",
       "Kurtosis:                       4.843   Cond. No.                         11.5\n",
       "==============================================================================\n",
       "\n",
       "Notes:\n",
       "[1] Standard Errors assume that the covariance matrix of the errors is correctly specified.\n",
       "\"\"\""
      ]
     },
     "execution_count": 63,
     "metadata": {},
     "output_type": "execute_result"
    }
   ],
   "source": [
    "outcome_c, predictors_c = patsy.dmatrices('salary ~ gpa', compmathsciences)\n",
    "model_c = sm.OLS(outcome_c, predictors_c)\n",
    "result_c = model_c.fit()\n",
    "\n",
    "result_c.summary()"
   ]
  },
  {
   "cell_type": "markdown",
   "metadata": {},
   "source": [
    "Like engineering, there are some statistically significant GPA groups here: 4.0 - 3.75 and 3.74 - 3.25. In fact, the coefficient for the highest GPA group is higher than that of any significant GPA category thus far. Computer science and mathematics are known for their academic rigor, so the impact of GPA here makes sense."
   ]
  },
  {
   "cell_type": "code",
   "execution_count": 65,
   "metadata": {},
   "outputs": [
    {
     "data": {
      "text/html": [
       "<table class=\"simpletable\">\n",
       "<caption>OLS Regression Results</caption>\n",
       "<tr>\n",
       "  <th>Dep. Variable:</th>         <td>salary</td>      <th>  R-squared:         </th> <td>   0.004</td> \n",
       "</tr>\n",
       "<tr>\n",
       "  <th>Model:</th>                   <td>OLS</td>       <th>  Adj. R-squared:    </th> <td>   0.003</td> \n",
       "</tr>\n",
       "<tr>\n",
       "  <th>Method:</th>             <td>Least Squares</td>  <th>  F-statistic:       </th> <td>   6.333</td> \n",
       "</tr>\n",
       "<tr>\n",
       "  <th>Date:</th>             <td>Sun, 14 Mar 2021</td> <th>  Prob (F-statistic):</th> <td>4.40e-05</td> \n",
       "</tr>\n",
       "<tr>\n",
       "  <th>Time:</th>                 <td>22:22:25</td>     <th>  Log-Likelihood:    </th> <td> -74695.</td> \n",
       "</tr>\n",
       "<tr>\n",
       "  <th>No. Observations:</th>      <td>  6913</td>      <th>  AIC:               </th> <td>1.494e+05</td>\n",
       "</tr>\n",
       "<tr>\n",
       "  <th>Df Residuals:</th>          <td>  6908</td>      <th>  BIC:               </th> <td>1.494e+05</td>\n",
       "</tr>\n",
       "<tr>\n",
       "  <th>Df Model:</th>              <td>     4</td>      <th>                     </th>     <td> </td>    \n",
       "</tr>\n",
       "<tr>\n",
       "  <th>Covariance Type:</th>      <td>nonrobust</td>    <th>                     </th>     <td> </td>    \n",
       "</tr>\n",
       "</table>\n",
       "<table class=\"simpletable\">\n",
       "<tr>\n",
       "           <td></td>             <th>coef</th>     <th>std err</th>      <th>t</th>      <th>P>|t|</th>  <th>[0.025</th>    <th>0.975]</th>  \n",
       "</tr>\n",
       "<tr>\n",
       "  <th>Intercept</th>          <td> 2.574e+04</td> <td>  408.769</td> <td>   62.973</td> <td> 0.000</td> <td> 2.49e+04</td> <td> 2.65e+04</td>\n",
       "</tr>\n",
       "<tr>\n",
       "  <th>gpa[T.3.24 - 2.75]</th> <td>  992.9171</td> <td>  467.640</td> <td>    2.123</td> <td> 0.034</td> <td>   76.199</td> <td> 1909.636</td>\n",
       "</tr>\n",
       "<tr>\n",
       "  <th>gpa[T.3.74 - 3.25]</th> <td> 2016.1211</td> <td>  477.483</td> <td>    4.222</td> <td> 0.000</td> <td> 1080.108</td> <td> 2952.134</td>\n",
       "</tr>\n",
       "<tr>\n",
       "  <th>gpa[T.4.00 - 3.75]</th> <td> 2223.1716</td> <td>  573.787</td> <td>    3.875</td> <td> 0.000</td> <td> 1098.373</td> <td> 3347.970</td>\n",
       "</tr>\n",
       "<tr>\n",
       "  <th>gpa[T.< 2.25]</th>      <td> 1439.3705</td> <td> 1296.076</td> <td>    1.111</td> <td> 0.267</td> <td>-1101.336</td> <td> 3980.077</td>\n",
       "</tr>\n",
       "</table>\n",
       "<table class=\"simpletable\">\n",
       "<tr>\n",
       "  <th>Omnibus:</th>       <td>2919.272</td> <th>  Durbin-Watson:     </th> <td>   1.968</td> \n",
       "</tr>\n",
       "<tr>\n",
       "  <th>Prob(Omnibus):</th>  <td> 0.000</td>  <th>  Jarque-Bera (JB):  </th> <td>17200.759</td>\n",
       "</tr>\n",
       "<tr>\n",
       "  <th>Skew:</th>           <td> 1.942</td>  <th>  Prob(JB):          </th> <td>    0.00</td> \n",
       "</tr>\n",
       "<tr>\n",
       "  <th>Kurtosis:</th>       <td> 9.681</td>  <th>  Cond. No.          </th> <td>    10.7</td> \n",
       "</tr>\n",
       "</table><br/><br/>Notes:<br/>[1] Standard Errors assume that the covariance matrix of the errors is correctly specified."
      ],
      "text/plain": [
       "<class 'statsmodels.iolib.summary.Summary'>\n",
       "\"\"\"\n",
       "                            OLS Regression Results                            \n",
       "==============================================================================\n",
       "Dep. Variable:                 salary   R-squared:                       0.004\n",
       "Model:                            OLS   Adj. R-squared:                  0.003\n",
       "Method:                 Least Squares   F-statistic:                     6.333\n",
       "Date:                Sun, 14 Mar 2021   Prob (F-statistic):           4.40e-05\n",
       "Time:                        22:22:25   Log-Likelihood:                -74695.\n",
       "No. Observations:                6913   AIC:                         1.494e+05\n",
       "Df Residuals:                    6908   BIC:                         1.494e+05\n",
       "Df Model:                           4                                         \n",
       "Covariance Type:            nonrobust                                         \n",
       "======================================================================================\n",
       "                         coef    std err          t      P>|t|      [0.025      0.975]\n",
       "--------------------------------------------------------------------------------------\n",
       "Intercept           2.574e+04    408.769     62.973      0.000    2.49e+04    2.65e+04\n",
       "gpa[T.3.24 - 2.75]   992.9171    467.640      2.123      0.034      76.199    1909.636\n",
       "gpa[T.3.74 - 3.25]  2016.1211    477.483      4.222      0.000    1080.108    2952.134\n",
       "gpa[T.4.00 - 3.75]  2223.1716    573.787      3.875      0.000    1098.373    3347.970\n",
       "gpa[T.< 2.25]       1439.3705   1296.076      1.111      0.267   -1101.336    3980.077\n",
       "==============================================================================\n",
       "Omnibus:                     2919.272   Durbin-Watson:                   1.968\n",
       "Prob(Omnibus):                  0.000   Jarque-Bera (JB):            17200.759\n",
       "Skew:                           1.942   Prob(JB):                         0.00\n",
       "Kurtosis:                       9.681   Cond. No.                         10.7\n",
       "==============================================================================\n",
       "\n",
       "Notes:\n",
       "[1] Standard Errors assume that the covariance matrix of the errors is correctly specified.\n",
       "\"\"\""
      ]
     },
     "execution_count": 65,
     "metadata": {},
     "output_type": "execute_result"
    }
   ],
   "source": [
    "outcome_s, predictors_s = patsy.dmatrices('salary ~ gpa', socialsciences)\n",
    "model_s = sm.OLS(outcome_s, predictors_s)\n",
    "result_s = model_s.fit()\n",
    "\n",
    "result_s.summary()"
   ]
  },
  {
   "cell_type": "markdown",
   "metadata": {},
   "source": [
    "This model, for social sciences, shows some statistically significant GPA categories as well. However, the coefficients of the two groups (4.0 - 3.75 and 3.74 - 3.25) are lower than for engineering or computer & math majors, signifying a smaller impact."
   ]
  },
  {
   "cell_type": "code",
   "execution_count": 66,
   "metadata": {},
   "outputs": [
    {
     "data": {
      "text/html": [
       "<table class=\"simpletable\">\n",
       "<caption>OLS Regression Results</caption>\n",
       "<tr>\n",
       "  <th>Dep. Variable:</th>         <td>salary</td>      <th>  R-squared:         </th> <td>   0.008</td> \n",
       "</tr>\n",
       "<tr>\n",
       "  <th>Model:</th>                   <td>OLS</td>       <th>  Adj. R-squared:    </th> <td>   0.007</td> \n",
       "</tr>\n",
       "<tr>\n",
       "  <th>Method:</th>             <td>Least Squares</td>  <th>  F-statistic:       </th> <td>   8.383</td> \n",
       "</tr>\n",
       "<tr>\n",
       "  <th>Date:</th>             <td>Sun, 14 Mar 2021</td> <th>  Prob (F-statistic):</th> <td>9.85e-07</td> \n",
       "</tr>\n",
       "<tr>\n",
       "  <th>Time:</th>                 <td>22:25:12</td>     <th>  Log-Likelihood:    </th> <td> -47466.</td> \n",
       "</tr>\n",
       "<tr>\n",
       "  <th>No. Observations:</th>      <td>  4340</td>      <th>  AIC:               </th> <td>9.494e+04</td>\n",
       "</tr>\n",
       "<tr>\n",
       "  <th>Df Residuals:</th>          <td>  4335</td>      <th>  BIC:               </th> <td>9.497e+04</td>\n",
       "</tr>\n",
       "<tr>\n",
       "  <th>Df Model:</th>              <td>     4</td>      <th>                     </th>     <td> </td>    \n",
       "</tr>\n",
       "<tr>\n",
       "  <th>Covariance Type:</th>      <td>nonrobust</td>    <th>                     </th>     <td> </td>    \n",
       "</tr>\n",
       "</table>\n",
       "<table class=\"simpletable\">\n",
       "<tr>\n",
       "           <td></td>             <th>coef</th>     <th>std err</th>      <th>t</th>      <th>P>|t|</th>  <th>[0.025</th>    <th>0.975]</th>  \n",
       "</tr>\n",
       "<tr>\n",
       "  <th>Intercept</th>          <td> 3.083e+04</td> <td>  654.841</td> <td>   47.075</td> <td> 0.000</td> <td> 2.95e+04</td> <td> 3.21e+04</td>\n",
       "</tr>\n",
       "<tr>\n",
       "  <th>gpa[T.3.24 - 2.75]</th> <td> -374.7160</td> <td>  737.288</td> <td>   -0.508</td> <td> 0.611</td> <td>-1820.177</td> <td> 1070.745</td>\n",
       "</tr>\n",
       "<tr>\n",
       "  <th>gpa[T.3.74 - 3.25]</th> <td>-1402.9655</td> <td>  740.287</td> <td>   -1.895</td> <td> 0.058</td> <td>-2854.307</td> <td>   48.376</td>\n",
       "</tr>\n",
       "<tr>\n",
       "  <th>gpa[T.4.00 - 3.75]</th> <td>-3685.4393</td> <td>  838.849</td> <td>   -4.393</td> <td> 0.000</td> <td>-5330.012</td> <td>-2040.867</td>\n",
       "</tr>\n",
       "<tr>\n",
       "  <th>gpa[T.< 2.25]</th>      <td>  794.8232</td> <td> 1798.783</td> <td>    0.442</td> <td> 0.659</td> <td>-2731.711</td> <td> 4321.357</td>\n",
       "</tr>\n",
       "</table>\n",
       "<table class=\"simpletable\">\n",
       "<tr>\n",
       "  <th>Omnibus:</th>       <td>637.434</td> <th>  Durbin-Watson:     </th> <td>   1.953</td> \n",
       "</tr>\n",
       "<tr>\n",
       "  <th>Prob(Omnibus):</th> <td> 0.000</td>  <th>  Jarque-Bera (JB):  </th> <td>1070.533</td> \n",
       "</tr>\n",
       "<tr>\n",
       "  <th>Skew:</th>          <td> 0.977</td>  <th>  Prob(JB):          </th> <td>3.44e-233</td>\n",
       "</tr>\n",
       "<tr>\n",
       "  <th>Kurtosis:</th>      <td> 4.450</td>  <th>  Cond. No.          </th> <td>    10.6</td> \n",
       "</tr>\n",
       "</table><br/><br/>Notes:<br/>[1] Standard Errors assume that the covariance matrix of the errors is correctly specified."
      ],
      "text/plain": [
       "<class 'statsmodels.iolib.summary.Summary'>\n",
       "\"\"\"\n",
       "                            OLS Regression Results                            \n",
       "==============================================================================\n",
       "Dep. Variable:                 salary   R-squared:                       0.008\n",
       "Model:                            OLS   Adj. R-squared:                  0.007\n",
       "Method:                 Least Squares   F-statistic:                     8.383\n",
       "Date:                Sun, 14 Mar 2021   Prob (F-statistic):           9.85e-07\n",
       "Time:                        22:25:12   Log-Likelihood:                -47466.\n",
       "No. Observations:                4340   AIC:                         9.494e+04\n",
       "Df Residuals:                    4335   BIC:                         9.497e+04\n",
       "Df Model:                           4                                         \n",
       "Covariance Type:            nonrobust                                         \n",
       "======================================================================================\n",
       "                         coef    std err          t      P>|t|      [0.025      0.975]\n",
       "--------------------------------------------------------------------------------------\n",
       "Intercept           3.083e+04    654.841     47.075      0.000    2.95e+04    3.21e+04\n",
       "gpa[T.3.24 - 2.75]  -374.7160    737.288     -0.508      0.611   -1820.177    1070.745\n",
       "gpa[T.3.74 - 3.25] -1402.9655    740.287     -1.895      0.058   -2854.307      48.376\n",
       "gpa[T.4.00 - 3.75] -3685.4393    838.849     -4.393      0.000   -5330.012   -2040.867\n",
       "gpa[T.< 2.25]        794.8232   1798.783      0.442      0.659   -2731.711    4321.357\n",
       "==============================================================================\n",
       "Omnibus:                      637.434   Durbin-Watson:                   1.953\n",
       "Prob(Omnibus):                  0.000   Jarque-Bera (JB):             1070.533\n",
       "Skew:                           0.977   Prob(JB):                    3.44e-233\n",
       "Kurtosis:                       4.450   Cond. No.                         10.6\n",
       "==============================================================================\n",
       "\n",
       "Notes:\n",
       "[1] Standard Errors assume that the covariance matrix of the errors is correctly specified.\n",
       "\"\"\""
      ]
     },
     "execution_count": 66,
     "metadata": {},
     "output_type": "execute_result"
    }
   ],
   "source": [
    "outcome_p, predictors_p = patsy.dmatrices('salary ~ gpa', physicalsciences)\n",
    "model_p = sm.OLS(outcome_p, predictors_p)\n",
    "result_p = model_p.fit()\n",
    "\n",
    "result_p.summary()"
   ]
  },
  {
   "cell_type": "markdown",
   "metadata": {},
   "source": [
    "Our final model, for physical sciences, shows only one statistically significant GPA category, the highest one. And, just as observed from the boxplots, its effect on salary is actually negative. This is strange, but could be explained by the small sample size, or perhaps a tendency among those with higher GPAs to pursue careers in academia, which might provide lower starting salaries."
   ]
  },
  {
   "cell_type": "markdown",
   "metadata": {},
   "source": [
    "### Job Satisfaction"
   ]
  },
  {
   "cell_type": "markdown",
   "metadata": {},
   "source": [
    "Since our dataset includes respondents' job satisfaction rating, we will analyze it as well. Below is a bar plot counting the respondents who answered the varying levels of job satisfaction, grouped by their GPA. For a more easily understood visualization, the number of responses was normalized within each GPA group to show the percentage of respondents who answered in each satisfaction category.\n",
    "\n",
    "From just looking at the plot, there seems to be a slight shift towards lower satisfaction as GPA decreases. We can test this further."
   ]
  },
  {
   "cell_type": "code",
   "execution_count": 76,
   "metadata": {},
   "outputs": [
    {
     "data": {
      "image/png": "[encoded data removed]",
      "text/plain": [
       "<Figure size 1224x504 with 1 Axes>"
      ]
     },
     "metadata": {
      "needs_background": "light"
     },
     "output_type": "display_data"
    }
   ],
   "source": [
    "satisfactionorder = ['Very satisfied', 'Somewhat satisfied', 'Somewhat dissatisfied', 'Very dissatisfied']\n",
    "\n",
    "pcts_df = df.groupby('gpa')['jobsatisfaction'].value_counts(normalize=True).mul(100).rename('percent').reset_index()\n",
    "\n",
    "ax = sns.barplot(x='gpa', y='percent', hue='jobsatisfaction', order=gpaorder, hue_order=satisfactionorder, data=pcts_df)\n",
    "\n",
    "ax.set_title('Job Satisfaction Responses by GPA')\n",
    "ax.set_xlabel('GPA')\n",
    "ax.set_ylabel('Percent of Responses')\n",
    "ax.axes.get_legend().set_title('Job Satisfaction')\n",
    "\n",
    "plt.show()"
   ]
  },
  {
   "cell_type": "code",
   "execution_count": 78,
   "metadata": {},
   "outputs": [
    {
     "data": {
      "text/html": [
       "<table class=\"simpletable\">\n",
       "<caption>OLS Regression Results</caption>\n",
       "<tr>\n",
       "  <th>Dep. Variable:</th>    <td>numericsatisfaction</td> <th>  R-squared:         </th> <td>   0.002</td> \n",
       "</tr>\n",
       "<tr>\n",
       "  <th>Model:</th>                    <td>OLS</td>         <th>  Adj. R-squared:    </th> <td>   0.002</td> \n",
       "</tr>\n",
       "<tr>\n",
       "  <th>Method:</th>              <td>Least Squares</td>    <th>  F-statistic:       </th> <td>   4.977</td> \n",
       "</tr>\n",
       "<tr>\n",
       "  <th>Date:</th>              <td>Sun, 14 Mar 2021</td>   <th>  Prob (F-statistic):</th> <td>0.000525</td> \n",
       "</tr>\n",
       "<tr>\n",
       "  <th>Time:</th>                  <td>22:56:45</td>       <th>  Log-Likelihood:    </th> <td> -10174.</td> \n",
       "</tr>\n",
       "<tr>\n",
       "  <th>No. Observations:</th>       <td>  8235</td>        <th>  AIC:               </th> <td>2.036e+04</td>\n",
       "</tr>\n",
       "<tr>\n",
       "  <th>Df Residuals:</th>           <td>  8230</td>        <th>  BIC:               </th> <td>2.039e+04</td>\n",
       "</tr>\n",
       "<tr>\n",
       "  <th>Df Model:</th>               <td>     4</td>        <th>                     </th>     <td> </td>    \n",
       "</tr>\n",
       "<tr>\n",
       "  <th>Covariance Type:</th>       <td>nonrobust</td>      <th>                     </th>     <td> </td>    \n",
       "</tr>\n",
       "</table>\n",
       "<table class=\"simpletable\">\n",
       "<tr>\n",
       "           <td></td>             <th>coef</th>     <th>std err</th>      <th>t</th>      <th>P>|t|</th>  <th>[0.025</th>    <th>0.975]</th>  \n",
       "</tr>\n",
       "<tr>\n",
       "  <th>Intercept</th>          <td>    3.1335</td> <td>    0.028</td> <td>  113.782</td> <td> 0.000</td> <td>    3.079</td> <td>    3.187</td>\n",
       "</tr>\n",
       "<tr>\n",
       "  <th>gpa[T.3.24 - 2.75]</th> <td>    0.0534</td> <td>    0.031</td> <td>    1.717</td> <td> 0.086</td> <td>   -0.008</td> <td>    0.114</td>\n",
       "</tr>\n",
       "<tr>\n",
       "  <th>gpa[T.3.74 - 3.25]</th> <td>    0.1083</td> <td>    0.032</td> <td>    3.416</td> <td> 0.001</td> <td>    0.046</td> <td>    0.170</td>\n",
       "</tr>\n",
       "<tr>\n",
       "  <th>gpa[T.4.00 - 3.75]</th> <td>    0.1318</td> <td>    0.038</td> <td>    3.496</td> <td> 0.000</td> <td>    0.058</td> <td>    0.206</td>\n",
       "</tr>\n",
       "<tr>\n",
       "  <th>gpa[T.< 2.25]</th>      <td>    0.0033</td> <td>    0.082</td> <td>    0.040</td> <td> 0.968</td> <td>   -0.157</td> <td>    0.164</td>\n",
       "</tr>\n",
       "</table>\n",
       "<table class=\"simpletable\">\n",
       "<tr>\n",
       "  <th>Omnibus:</th>       <td>925.999</td> <th>  Durbin-Watson:     </th> <td>   2.011</td> \n",
       "</tr>\n",
       "<tr>\n",
       "  <th>Prob(Omnibus):</th> <td> 0.000</td>  <th>  Jarque-Bera (JB):  </th> <td>1264.450</td> \n",
       "</tr>\n",
       "<tr>\n",
       "  <th>Skew:</th>          <td>-0.941</td>  <th>  Prob(JB):          </th> <td>2.68e-275</td>\n",
       "</tr>\n",
       "<tr>\n",
       "  <th>Kurtosis:</th>      <td> 3.383</td>  <th>  Cond. No.          </th> <td>    10.7</td> \n",
       "</tr>\n",
       "</table><br/><br/>Notes:<br/>[1] Standard Errors assume that the covariance matrix of the errors is correctly specified."
      ],
      "text/plain": [
       "<class 'statsmodels.iolib.summary.Summary'>\n",
       "\"\"\"\n",
       "                             OLS Regression Results                            \n",
       "===============================================================================\n",
       "Dep. Variable:     numericsatisfaction   R-squared:                       0.002\n",
       "Model:                             OLS   Adj. R-squared:                  0.002\n",
       "Method:                  Least Squares   F-statistic:                     4.977\n",
       "Date:                 Sun, 14 Mar 2021   Prob (F-statistic):           0.000525\n",
       "Time:                         22:56:45   Log-Likelihood:                -10174.\n",
       "No. Observations:                 8235   AIC:                         2.036e+04\n",
       "Df Residuals:                     8230   BIC:                         2.039e+04\n",
       "Df Model:                            4                                         \n",
       "Covariance Type:             nonrobust                                         \n",
       "======================================================================================\n",
       "                         coef    std err          t      P>|t|      [0.025      0.975]\n",
       "--------------------------------------------------------------------------------------\n",
       "Intercept              3.1335      0.028    113.782      0.000       3.079       3.187\n",
       "gpa[T.3.24 - 2.75]     0.0534      0.031      1.717      0.086      -0.008       0.114\n",
       "gpa[T.3.74 - 3.25]     0.1083      0.032      3.416      0.001       0.046       0.170\n",
       "gpa[T.4.00 - 3.75]     0.1318      0.038      3.496      0.000       0.058       0.206\n",
       "gpa[T.< 2.25]          0.0033      0.082      0.040      0.968      -0.157       0.164\n",
       "==============================================================================\n",
       "Omnibus:                      925.999   Durbin-Watson:                   2.011\n",
       "Prob(Omnibus):                  0.000   Jarque-Bera (JB):             1264.450\n",
       "Skew:                          -0.941   Prob(JB):                    2.68e-275\n",
       "Kurtosis:                       3.383   Cond. No.                         10.7\n",
       "==============================================================================\n",
       "\n",
       "Notes:\n",
       "[1] Standard Errors assume that the covariance matrix of the errors is correctly specified.\n",
       "\"\"\""
      ]
     },
     "execution_count": 78,
     "metadata": {},
     "output_type": "execute_result"
    }
   ],
   "source": [
    "df['numericsatisfaction'] = df['jobsatisfaction'].replace(['Very satisfied',\n",
    "                                          'Somewhat satisfied',\n",
    "                                          'Somewhat dissatisfied',\n",
    "                                          'Very dissatisfied'],[4,3,2,1])\n",
    "\n",
    "outcome_satis, predictors_satis = patsy.dmatrices('numericsatisfaction ~ gpa', df)\n",
    "model_satis = sm.OLS(outcome_satis, predictors_satis)\n",
    "result_satis = model_satis.fit()\n",
    "\n",
    "result_satis.summary()"
   ]
  },
  {
   "cell_type": "markdown",
   "metadata": {},
   "source": [
    "The above OLS model compares GPA to job satisfaction, converting the satisfaction ratings into numeric values for easier use. According to the summary, the two highest GPA groups are statistically significant predictors, with coefficients of roughly .11 and .13. Given that the numeric values for satisfaction were the integers from 1 through 4, these coefficients represent a small but not insignificant trend."
   ]
  },
  {
   "cell_type": "markdown",
   "metadata": {},
   "source": [
    "# Ethics & Privacy"
   ]
  },
  {
   "cell_type": "markdown",
   "metadata": {},
   "source": [
    "The dataset we obtained from IPUMS is anonymized to remove any information that could be used to identify anyone taking the survey. The only unique identifier available is the ID number assigned by IPUMS, which can only be used to cross-reference other datasets. The National Survey of Recent College Graduates (NSRCG) is funded by the National Science Foundation, and conducted by the United States Census Bureau. Taking the survey is voluntary, as is answering any particular question within, and the Census Bureau is required by law to keep responses confidential and provide them only for the purposes of statistical analysis, such as for this research project. This information is made available to anyone initially chosen for the NSRCG.\n",
    "\n",
    "Surveys are distributed in such a way to create representative samples of the population of college graduates in the United States. Thus, biases in the dataset itself in regards to race, gender, geographic location, etc. should be low. The particular dataset we extracted for use in our analysis does not contain any such personal data, however, so any existing biases could not have been corrected by us.\n",
    "\n",
    "Despite revealing a positive correlation between GPA and salary, we believe that this may be because students with higher GPAs may have more resources and be less burdened by environmental factors (like maybe students that need a part time job have lower GPAs to balance school and work). Thus, this positive correlation between GPA and salary may reflect an institutional inequality in resources, rather than a difference in earning potential among students."
   ]
  },
  {
   "cell_type": "markdown",
   "metadata": {},
   "source": [
    "# Conclusion & Discussion"
   ]
  },
  {
   "cell_type": "markdown",
   "metadata": {},
   "source": [
    "Our analysis of the data using linear regress confirmed our hypothesis that salary and job satisfaction would increase with GPA. Looking at all majors together, GPA had a small but significant effect on salary. In analyzing each major individually, certain majors had greater salary differences between GPAs than others. Some majors produced regression models with no statistically significant variables, signifying that either the effect of GPA on salary was negligible, or the data was not comprehensive enough. In our regression analysis of job satisfaction, we found that those with higher GPAs were slightly more satisfied with their jobs, on average.\n",
    "\n",
    "In all of the analyses described above, our models showed very low R-squared values, meaning that the coefficients pertained mostly to the means of the data due to the high variation. This can be seen in the visualizations of the data: plots of salary between different GPAs mostly overlap with each other. This represents that, although someone with a higher GPA may be more likely to have a higher salary, GPA is far from the be-all and end-all in regards to future wages. There are a multitude of factors affecting salary that were not analyzed here, and GPA may be a confounding variable of some of them, such as individual motivation. Our analysis had other limitations as well. The dataset used only contains responses from 1993 to 1999 - the job market has changed dramatically in the last 25 years, espeically in fields such as computer science, so relationships might be different in more recent data. Additionally, the GPA data within the dataset was organized categorically, into ranges of GPA values, instead of individual scores. A dataset with more granular GPA data would be easier to model, and might provide more meaningful relationships between GPA and salary.\n",
    "\n",
    "The implications of this research on society are not particularly large, since similar research has already been published. Some students may become inspired to study harder and worry more about their grades, but any societal impact beyond that seems unlikely."
   ]
  },
  {
   "cell_type": "markdown",
   "metadata": {},
   "source": [
    "# Team Contributions"
   ]
  },
  {
   "cell_type": "markdown",
   "metadata": {},
   "source": [
    "**Alessandro Todaro, Vivek Rayalu:** Data cleaning, data visualization, data analysis, writing  \n",
    "**Richard Yu:** Organization, video voiceover, writing    \n",
    "**Mengyu Zhang:** Data visualization, writing  \n",
    "**Hedy Wang:** Video visuals, writing"
   ]
  }
 ],
 "metadata": {
  "kernelspec": {
   "display_name": "Python 3 (ipykernel)",
   "language": "python",
   "name": "python3"
  },
  "language_info": {
   "codemirror_mode": {
    "name": "ipython",
    "version": 3
   },
   "file_extension": ".py",
   "mimetype": "text/x-python",
   "name": "python",
   "nbconvert_exporter": "python",
   "pygments_lexer": "ipython3",
   "version": "3.9.10"
  }
 },
 "nbformat": 4,
 "nbformat_minor": 2
}
