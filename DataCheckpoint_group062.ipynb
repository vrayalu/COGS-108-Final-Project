{
 "cells": [
  {
   "cell_type": "markdown",
   "metadata": {},
   "source": [
    "# COGS 108 - Data Checkpoint"
   ]
  },
  {
   "cell_type": "markdown",
   "metadata": {},
   "source": [
    "# Names\n",
    "\n",
    "- Alessandro Todaro\n",
    "- Richard Yu\n",
    "- Vivek Rayalu\n",
    "- Mengyu Zhang\n",
    "- Hedy Wang"
   ]
  },
  {
   "cell_type": "markdown",
   "metadata": {},
   "source": [
    "<a id='research_question'></a>\n",
    "# Research Question"
   ]
  },
  {
   "cell_type": "markdown",
   "metadata": {},
   "source": [
    "How does college GPA correlate to salary and job satisfaction, and how does the correlation differ between fields/degrees?"
   ]
  },
  {
   "cell_type": "markdown",
   "metadata": {},
   "source": [
    "# Dataset(s)"
   ]
  },
  {
   "cell_type": "markdown",
   "metadata": {},
   "source": [
    "- Dataset Name: IPUMS Higher Ed\n",
    "- Link to the dataset: https://highered.ipums.org/highered/index.shtml\n",
    "- Number of observations: ~276,000\n",
    "\n",
    "This dataset contains data from the National Surveys of College Graduates and Recent College Graduates, or NSCG and NSRCG respectively. Specifically, we extracted data from 1993 to 1999 pertaining to undergraduate GPA, college major, salary, and job satisfaction. "
   ]
  },
  {
   "cell_type": "markdown",
   "metadata": {},
   "source": [
    "# Setup"
   ]
  },
  {
   "cell_type": "code",
   "execution_count": 19,
   "metadata": {},
   "outputs": [],
   "source": [
    "import pandas as pd\n",
    "\n",
    "df = pd.read_csv('data.csv')"
   ]
  },
  {
   "cell_type": "markdown",
   "metadata": {},
   "source": [
    "# Data Cleaning"
   ]
  },
  {
   "cell_type": "markdown",
   "metadata": {},
   "source": [
    "Columns are renamed for easier manipulation. Rows with values that represent missing or non-applicable data are removed. Empty data is NOT removed because the survey's questions changed when taken in different years, so some years do not have certain variables, but those years could still be used for analysis. Finally, the numeric codes used by IPUMS are replaced with the descriptors they represent, for ease of use."
   ]
  },
  {
   "cell_type": "code",
   "execution_count": 20,
   "metadata": {},
   "outputs": [],
   "source": [
    "# give columns friendlier names\n",
    "df.columns = ['id', 'year', 'survey', 'major', 'gpa', 'yearsexperience', 'jobrelated', 'salary', 'jobsatisfaction']\n",
    "\n",
    "# salary values of 9999998 or 9999999 represent missing or error data\n",
    "# GPA value of 8 represents respondant did not recall GPA or did not have one\n",
    "# job related value of 98 represents missing or error data\n",
    "# major value of 96 represents blank response\n",
    "# job satisfaction value of 98 represents missing or error data\n",
    "df = df[df['salary'] < 9999998]\n",
    "df = df[df['gpa'] != 8]\n",
    "df = df[df['jobrelated'] != 98]\n",
    "df = df[df['major'] != 96]\n",
    "df = df[df['jobsatisfaction'] != 98]\n",
    "\n",
    "\n",
    "# replace numeric values with the category/descriptor they represent\n",
    "df['survey'].replace([1,3],['NSCG','NSRCG'],inplace=True)\n",
    "df['major'].replace([1,2,3,4,5,6,7,9],['Computer and mathematical sciences',\n",
    "                                       'Life and related sciences',\n",
    "                                       'Physical and related sciences',\n",
    "                                       'Social and related sciences',\n",
    "                                       'Engineering',\n",
    "                                       'Science and engineering-related fields',\n",
    "                                       'Non-science and engineering fields',\n",
    "                                        'Others'],inplace=True)\n",
    "df['gpa'].replace([1,2,3,4,5],['3.75 - 4.00',\n",
    "                               '3.25 - 3.74',\n",
    "                               '2.75 - 3.24',\n",
    "                               '2.25 - 2.74',\n",
    "                               '< 2.25'],inplace=True)\n",
    "df['jobrelated'].replace([1,2,3],['Closely related',\n",
    "                                             'Somewhat related', \n",
    "                                             'Not related',],inplace=True)\n",
    "df['jobsatisfaction'].replace([1,2,3,4],['Very satisfied',\n",
    "                                          'Somewhat satisfied',\n",
    "                                          'Somewhat dissatisfied',\n",
    "                                          'Very dissatisfied',],inplace=True)"
   ]
  },
  {
   "cell_type": "code",
   "execution_count": 23,
   "metadata": {},
   "outputs": [],
   "source": [
    "# save cleaned data\n",
    "df.to_csv('cleaned_data.csv')"
   ]
  },
  {
   "cell_type": "code",
   "execution_count": 24,
   "metadata": {},
   "outputs": [
    {
     "data": {
      "text/plain": [
       "(225442, 9)"
      ]
     },
     "execution_count": 24,
     "metadata": {},
     "output_type": "execute_result"
    }
   ],
   "source": [
    "df.shape"
   ]
  },
  {
   "cell_type": "markdown",
   "metadata": {},
   "source": [
    "# Project Timeline Proposal (updated)"
   ]
  },
  {
   "cell_type": "markdown",
   "metadata": {},
   "source": [
    "| Meeting Date  | Meeting Time| Completed Before Meeting  | Discuss at Meeting |\n",
    "|---|---|---|---|\n",
    "| 1/28  |  6 PM | Brainstorm topics/questions  | Discuss and choose topic, assign workload, begin proposal writing | \n",
    "| 2/11  | 5:30 PM | Edit, finalize, and submit proposal; Search for datasets  | Discuss Wrangling and possible analytical approaches; Assign group members to lead each specific part   |\n",
    "| 2/12  | 5:30 PM  | Import & Wrangle Data | Finalize data submission   |\n",
    "| 2/20  | TBD | Begin EDA | Discuss/Finalize EDA, Beging talking about analysis & assign roles   |\n",
    "| 2/25  | TBD | Work on analysis  | Review/edit/critique analysis  |\n",
    "| 3/10  | TBD | Complete analysis | Begin/assign work on finalizing project  |\n",
    "| 3/19  | Before 11:59 PM  | NA | Turn in Final Project & Group Project Surveys |"
   ]
  }
 ],
 "metadata": {
  "kernelspec": {
   "display_name": "Python 3",
   "language": "python",
   "name": "python3"
  },
  "language_info": {
   "codemirror_mode": {
    "name": "ipython",
    "version": 3
   },
   "file_extension": ".py",
   "mimetype": "text/x-python",
   "name": "python",
   "nbconvert_exporter": "python",
   "pygments_lexer": "ipython3",
   "version": "3.8.5"
  }
 },
 "nbformat": 4,
 "nbformat_minor": 2
}
